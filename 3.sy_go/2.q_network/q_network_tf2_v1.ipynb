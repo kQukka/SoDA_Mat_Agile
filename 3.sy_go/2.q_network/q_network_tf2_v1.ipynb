{
  "nbformat": 4,
  "nbformat_minor": 0,
  "metadata": {
    "colab": {
      "name": "q_network_tf2_v1.ipynb",
      "provenance": [],
      "collapsed_sections": [],
      "toc_visible": true
    },
    "kernelspec": {
      "name": "python3",
      "display_name": "Python 3"
    },
    "language_info": {
      "name": "python"
    },
    "accelerator": "GPU"
  },
  "cells": [
    {
      "cell_type": "markdown",
      "source": [
        "# Q-Network\n",
        "\n",
        "Leture 6. Q-Network\n",
        "- [강의 슬라이드](http://hunkim.github.io/ml/RL/rl06.pdf)\n",
        "- [강의 동영상](https://www.youtube.com/watch?v=w9GwqPx7LW8)\n"
      ],
      "metadata": {
        "id": "YcEH3OhAS0b_"
      }
    },
    {
      "cell_type": "markdown",
      "source": [
        "### Vanilla Q-Learning vs Q-Network\n",
        "\n",
        "<img src=\"https://img1.daumcdn.net/thumb/R1280x0/?scode=mtistory2&fname=https%3A%2F%2Fblog.kakaocdn.net%2Fdn%2FclZLp2%2FbtrATdqwjsW%2FLsYcA3Q89jwZlRX2sU0aVk%2Fimg.png\" width=\"400\" height=\"300\"/>\n",
        "\n"
      ],
      "metadata": {
        "id": "BpDaFFtbQRbE"
      }
    },
    {
      "cell_type": "markdown",
      "source": [
        "### Q-Learning\n",
        "---\n",
        "- 큐-러닝 : 에이전트가 주어진 상태에서 행동을 취했을 경우 받을 수 있는 보상의 기댓값을 예측하는 큐-함수(Q-function)를 사용하여 최적화된 정책을 학습하는 강화 학습 기법이다.\n",
        "- 큐러닝의 한계 : state-action에 따른 값들을 모두 Table 형태(Q-Table)로 구성되므로 에이전트가 취할 수 있는 상태 개수가 많은 경우 큐-테이블 구축에 한계가 발생한다."
      ],
      "metadata": {
        "id": "Cp8tn3k2OePc"
      }
    },
    {
      "cell_type": "markdown",
      "source": [
        "\n",
        "### Q-Network \n",
        "---\n",
        "\n",
        "- 신경망을 활용한 Q-learning : 현재 상태를 입력으로 주었을때 취할수 있는 모든 행동에 대한 Q-value를 반환한다.\n",
        " <img src=\"https://img1.daumcdn.net/thumb/R1280x0/?scode=mtistory2&fname=https%3A%2F%2Fblog.kakaocdn.net%2Fdn%2Fbzdecs%2FbtrAQgIfEpI%2FK4batbxm9BBcugKt6G3Mk1%2Fimg.png\" width=\"400\" height=\"50\"/>\n",
        "\n",
        " - 결과값은 Linear Regressing(선형회귀)의 결과와 비슷한 Ws로 설정\n",
        " - Cost Function(비용함수) : Ws와 Label값인 y의 차를 제곱한 값들을 더한 값으로 설정된다.\n",
        "\n",
        "<br>\n",
        "\n",
        "- 비용에 대한 최소화를 공식화\n",
        "\n",
        " <img src=\"https://img1.daumcdn.net/thumb/R1280x0/?scode=mtistory2&fname=https%3A%2F%2Fblog.kakaocdn.net%2Fdn%2FbjaUIW%2FbtrATS1ksOK%2FkPkiiJT659kvhiPwykckG1%2Fimg.png\" width=\"400\" height=\"150\"/>\n",
        "\n",
        " - 목표값 : Q*(Optimal Q) = reward + dis * np.max(q_score_next) \n",
        " - 예측값 : Q_hat(Q prediction) = Ws = tf.matmul(one_hot(state), W)\n"
      ],
      "metadata": {
        "id": "PEeHNEPXipdR"
      }
    },
    {
      "cell_type": "code",
      "execution_count": null,
      "metadata": {
        "id": "qcoZl_KgPx8a"
      },
      "outputs": [],
      "source": [
        "import os\n",
        "import time\n",
        "import gym\n",
        "import numpy as np\n",
        "import tensorflow as tf\n",
        "import matplotlib.pyplot as plt\n",
        "os.environ['TF_CPP_MIN_LOG_LEVEL'] = '3'"
      ]
    },
    {
      "cell_type": "code",
      "source": [
        "def one_hot(x):\n",
        "    return np.identity(16)[x:x+1].astype(np.float32)"
      ],
      "metadata": {
        "id": "WUH_8s7jP01t"
      },
      "execution_count": null,
      "outputs": []
    },
    {
      "cell_type": "code",
      "source": [
        "env = gym.make('FrozenLake-v0')\n",
        "\n",
        "# Set Q-learning parameters\n",
        "num_episodes = 2000\n",
        "learning_rate = 0.1\n",
        "dis = .99\n",
        "\n",
        "# Input and output size based on the Env\n",
        "input_size = env.observation_space.n\n",
        "output_size = env.action_space.n\n",
        "\n",
        "# weight\n",
        "W = tf.Variable(tf.random.uniform([input_size, output_size], 0, 0.01), dtype=tf.float32)\n",
        "# optimizer \n",
        "optimizer = tf.optimizers.SGD(learning_rate=learning_rate)"
      ],
      "metadata": {
        "id": "R3G51aUuP2qB"
      },
      "execution_count": null,
      "outputs": []
    },
    {
      "cell_type": "code",
      "source": [
        "start_time = time.time()\n",
        "# rewards per episode\n",
        "rList = []\n",
        "for i in range(num_episodes):\n",
        "    # Reset environment and get first new observation\n",
        "    state = env.reset()\n",
        "    rAll = 0\n",
        "    done = False\n",
        "    local_loss = []\n",
        "\n",
        "    e = 1. / ((i / 50) + 10)\n",
        "    # The Q-Table learning algorithm\n",
        "    while not done:\n",
        "        # Choose an action by greedly (with a chance of random action) from the Q-network\n",
        "        q_value = tf.matmul(one_hot(state), W)  \n",
        "        q_value = np.array(q_value.numpy())\n",
        "\n",
        "        if np.random.rand(1) < e:\n",
        "            action = env.action_space.sample()\n",
        "        else:\n",
        "            action = np.argmax(q_value)\n",
        "\n",
        "        #--------------------------------------------------------------------\n",
        "        # Set y label\n",
        "        #--------------------------------------------------------------------\n",
        "        # Get new state and reward from environment\n",
        "        state_next, reward, done, _ = env.step(action)\n",
        "        if done:\n",
        "            # Update Q, and no q_value+1, since it's action termial state\n",
        "            q_value[0, action] = reward\n",
        "        else:\n",
        "            # Obtain the Q_s` values by feeding the new state through our network\n",
        "            q_score_next = tf.matmul(one_hot(state_next), W)  \n",
        "            # Update Q\n",
        "            q_value[0, action] = reward + dis * np.max(q_score_next) \n",
        "\n",
        "        #--------------------------------------------------------------------\n",
        "        # Train our network using target (Y) and predicted Q(Q_pred) values\n",
        "        # Q_pred : tf.matmul(one_hot(state), W))\n",
        "        #--------------------------------------------------------------------\n",
        "        loss = lambda: tf.reduce_sum(input_tensor=tf.square(q_value - tf.matmul(one_hot(state), W)))\n",
        "\n",
        "        # optimizer, loss가 작아지는 방향으로 W 업데이트\n",
        "        optimizer.minimize(loss, var_list=W)\n",
        "        rAll += reward\n",
        "        state = state_next\n",
        "    rList.append(rAll)"
      ],
      "metadata": {
        "id": "WN3ZHwKhP2nI"
      },
      "execution_count": null,
      "outputs": []
    },
    {
      "cell_type": "code",
      "source": [
        "print(f'{(time.time() - start_time)} seconds')\n",
        "print(\"Success rate: \" + str(sum(rList) / num_episodes))\n",
        "plt.bar(range(len(rList)), rList, color='b', alpha=0.4)\n",
        "plt.show()"
      ],
      "metadata": {
        "id": "9s8c59T8P2kQ",
        "colab": {
          "base_uri": "https://localhost:8080/",
          "height": 302
        },
        "outputId": "81a5059c-863c-4996-9739-9636fdb77dfb"
      },
      "execution_count": null,
      "outputs": [
        {
          "output_type": "stream",
          "name": "stdout",
          "text": [
            "220.44312620162964 seconds\n",
            "Success rate: 0.413\n"
          ]
        },
        {
          "output_type": "display_data",
          "data": {
            "text/plain": [
              "<Figure size 432x288 with 1 Axes>"
            ],
            "image/png": "[encoded data removed]"
          },
          "metadata": {
            "needs_background": "light"
          }
        }
      ]
    },
    {
      "cell_type": "markdown",
      "source": [
        "## Q-Network 의 한계\n",
        "Q Network의 결과는 아래의 문제점으로 Q-Table 보다 성능이 좋지 않다.\n",
        "\n",
        "<img src=\"https://img1.daumcdn.net/thumb/R1280x0/?scode=mtistory2&fname=https%3A%2F%2Fblog.kakaocdn.net%2Fdn%2FYbJRV%2FbtrAYlueDcJ%2FhPi4stPGEGSZq71LESqYK1%2Fimg.png\" width=\"400\" height=\"300\"/>\n",
        "\n",
        "\n",
        "- Correlation \n",
        " - 연속된 sample들로 학습시 연관성이 커 학습이 되지 않는다.\n",
        " - 전체적인 특징을 파악하기 어렵다.\n",
        "- Non-stationary target \n",
        " - Target값과 예측값을 구하는데 같은 모델을 사용하여 네트워크가 업데이트되면 Target값이 변하게 된다.\n",
        " - label에 해당하는 Target값이 변하므로 학습이 안정적으로 이루어지지 않는다.\n",
        "\n",
        "\n",
        "\n"
      ],
      "metadata": {
        "id": "JzwRFCSujUxx"
      }
    },
    {
      "cell_type": "markdown",
      "source": [
        "### Reference\n",
        "- [Deep Q Network (DQN)](https://engineering-ladder.tistory.com/68?category=826971)"
      ],
      "metadata": {
        "id": "ZQeIcARvemyN"
      }
    }
  ]
}
