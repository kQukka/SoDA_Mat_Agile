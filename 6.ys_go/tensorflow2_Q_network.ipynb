{
  "nbformat": 4,
  "nbformat_minor": 0,
  "metadata": {
    "colab": {
      "name": "tensorflow2_Q-network.ipynb",
      "provenance": [],
      "collapsed_sections": []
    },
    "kernelspec": {
      "name": "python3",
      "display_name": "Python 3"
    },
    "language_info": {
      "name": "python"
    }
  },
  "cells": [
    {
      "cell_type": "code",
      "execution_count": null,
      "metadata": {
        "id": "AtxR0K2G31XH"
      },
      "outputs": [],
      "source": [
        "import os\n",
        "import time\n",
        "import gym\n",
        "import numpy as np\n",
        "import tensorflow as tf\n",
        "import matplotlib.pyplot as plt\n",
        "from gym.envs.registration import register\n",
        "os.environ['TF_CPP_MIN_LOG_LEVEL'] = '3'"
      ]
    },
    {
      "cell_type": "code",
      "source": [
        "def one_hot(x):\n",
        "    return np.identity(16)[x:x+1].astype(np.float32)"
      ],
      "metadata": {
        "id": "3KFUC05S4I6A"
      },
      "execution_count": null,
      "outputs": []
    },
    {
      "cell_type": "code",
      "source": [
        "# # entry_point : gym.envs 환경 불러오기\n",
        "# register(\n",
        "#     id='LakeEnv-v1',\n",
        "#     entry_point='gym.envs.toy_text:FrozenLakeEnv',\n",
        "#     kwargs={'map_name':'4x4', 'is_slippery':True}\n",
        "# )\n",
        "# env = gym.make('LakeEnv-v1')\n",
        "\n",
        "env = gym.make('FrozenLake-v0')"
      ],
      "metadata": {
        "id": "TLeceZv-du0D"
      },
      "execution_count": null,
      "outputs": []
    },
    {
      "cell_type": "code",
      "source": [
        "def epsilon(num_episodes):\n",
        "    for i in range(num_episodes):\n",
        "      e = 1. / ((i / 50) + 10)\n",
        "    print(e)\n",
        "\n",
        "epsilon(2000)"
      ],
      "metadata": {
        "colab": {
          "base_uri": "https://localhost:8080/"
        },
        "id": "d--tWL08sTxL",
        "outputId": "a1dbc43d-ca6a-4337-cd63-74fb1bf6560b"
      },
      "execution_count": null,
      "outputs": [
        {
          "output_type": "stream",
          "name": "stdout",
          "text": [
            "0.020008003201280513\n"
          ]
        }
      ]
    },
    {
      "cell_type": "code",
      "source": [
        "def train_Q(env, num_episodes=2000, learning_rate=0.2, discounted_reward=.9, lr=0.01, do=False):\n",
        "    input_size = env.observation_space.n\n",
        "    output_size = env.action_space.n\n",
        "\n",
        "    rList = []\n",
        "\n",
        "    W = tf.Variable(tf.random.uniform([input_size, output_size], 0, 0.01), dtype=tf.float32)\n",
        "    # optimizer = tf.optimizers.SGD(learning_rate=lr)\n",
        "    optimizer = tf.optimizers.Adam(learning_rate=lr)\n",
        "\n",
        "    for i in range(num_episodes):\n",
        "        # Reset environment and get first new observation\n",
        "        state = env.reset()\n",
        "        rAll = 0\n",
        "        done = False\n",
        "        local_loss = []\n",
        "\n",
        "        e = 1. / ((i / 50) + 10)\n",
        "        # The Q-Table learning algorithm\n",
        "        while not done:\n",
        "            # Choose an action by greedly (with a chance of random action)\n",
        "            # from the Q-network\n",
        "            q_value = tf.matmul(one_hot(state), W) # 16x16, 16x4 행렬곱 = 1x4 행렬\n",
        "            q_value = np.array(q_value.numpy())\n",
        "\n",
        "            if np.random.rand(1) < e:\n",
        "                action = env.action_space.sample()\n",
        "            else:\n",
        "                action = np.argmax(q_value)\n",
        "\n",
        "            # Get new state and reward from environment\n",
        "            state_next, reward, done, _ = env.step(action)\n",
        "\n",
        "            \n",
        "            if done:\n",
        "                # Update Q, and no q_value+1, since it's action termial state\n",
        "                q_value[0, action] = reward\n",
        "            else:\n",
        "                # Obtain the Q_s` values by feeding the new state through our network\n",
        "                q_score_next = tf.matmul(one_hot(state_next), W)\n",
        "                # Update Q\n",
        "                if do:\n",
        "                    q_value[0, action] = (1 - learning_rate) * q_value[0, action] + learning_rate * (reward + discounted_reward * np.max(q_score_next))\n",
        "                else:\n",
        "                    reward + discounted_reward * np.max(q_score_next)\n",
        "\n",
        "            loss = lambda: tf.reduce_sum(input_tensor=tf.square(q_value - tf.matmul(one_hot(state), W)))\n",
        "            # optimizer, loss가 작아지는 방향으로 W 업데이트\n",
        "            optimizer.minimize(loss, var_list=W)\n",
        "            rAll += reward\n",
        "            state = state_next\n",
        "        rList.append(rAll)\n",
        "\n",
        "    print(\"Success rate: \" + str(sum(rList) / num_episodes))\n",
        "    #plt.bar(range(len(rList)), rList, color=\"blue\")\n",
        "    plt.bar(range(len(rList)), rList, color='b', alpha=0.4)\n",
        "    plt.show()"
      ],
      "metadata": {
        "id": "inb42KMwjgce"
      },
      "execution_count": null,
      "outputs": []
    },
    {
      "cell_type": "markdown",
      "source": [
        "### 1. SGD"
      ],
      "metadata": {
        "id": "2ne9OkBe1iCH"
      }
    },
    {
      "cell_type": "code",
      "source": [
        "# num_episodes=2000, learning_rate=0.2, discounted_reward=.9, lr=0.01, do=False(learning_rate 사용 여부 판단)\n",
        "train_Q(env)"
      ],
      "metadata": {
        "colab": {
          "base_uri": "https://localhost:8080/",
          "height": 284
        },
        "id": "oFKZ_USmrNtk",
        "outputId": "0cf328c6-ec60-4075-f20f-1a2765f5779f"
      },
      "execution_count": null,
      "outputs": [
        {
          "output_type": "stream",
          "name": "stdout",
          "text": [
            "Success rate: 0.2325\n"
          ]
        },
        {
          "output_type": "display_data",
          "data": {
            "text/plain": [
              "<Figure size 432x288 with 1 Axes>"
            ],
            "image/png": "[encoded data removed]"
          },
          "metadata": {
            "needs_background": "light"
          }
        }
      ]
    },
    {
      "cell_type": "markdown",
      "source": [
        "### 2. Adam"
      ],
      "metadata": {
        "id": "N6vGubSO1kaF"
      }
    },
    {
      "cell_type": "code",
      "source": [
        "train_Q(env)"
      ],
      "metadata": {
        "colab": {
          "base_uri": "https://localhost:8080/",
          "height": 284
        },
        "id": "1_jMgCPlxw36",
        "outputId": "8e473a9d-7405-44dd-cfce-1ffbb4b36f78"
      },
      "execution_count": null,
      "outputs": [
        {
          "output_type": "stream",
          "name": "stdout",
          "text": [
            "Success rate: 0.1115\n"
          ]
        },
        {
          "output_type": "display_data",
          "data": {
            "text/plain": [
              "<Figure size 432x288 with 1 Axes>"
            ],
            "image/png": "[encoded data removed]"
          },
          "metadata": {
            "needs_background": "light"
          }
        }
      ]
    }
  ]
}