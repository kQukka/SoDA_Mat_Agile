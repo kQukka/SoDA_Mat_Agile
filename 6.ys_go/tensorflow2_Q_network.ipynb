{
  "nbformat": 4,
  "nbformat_minor": 0,
  "metadata": {
    "colab": {
      "name": "tensorflow2_Q-network.ipynb",
      "provenance": [],
      "collapsed_sections": []
    },
    "kernelspec": {
      "name": "python3",
      "display_name": "Python 3"
    },
    "language_info": {
      "name": "python"
    }
  },
  "cells": [
    {
      "cell_type": "code",
      "execution_count": 1,
      "metadata": {
        "id": "AtxR0K2G31XH"
      },
      "outputs": [],
      "source": [
        "import os\n",
        "import time\n",
        "import gym\n",
        "import numpy as np\n",
        "import tensorflow as tf\n",
        "import matplotlib.pyplot as plt\n",
        "from gym.envs.registration import register\n",
        "os.environ['TF_CPP_MIN_LOG_LEVEL'] = '3'"
      ]
    },
    {
      "cell_type": "code",
      "source": [
        "def one_hot(x):\n",
        "    return np.identity(16)[x:x+1].astype(np.float32)"
      ],
      "metadata": {
        "id": "3KFUC05S4I6A"
      },
      "execution_count": 2,
      "outputs": []
    },
    {
      "cell_type": "code",
      "source": [
        "# # entry_point : gym.envs 환경 불러오기\n",
        "# register(\n",
        "#     id='LakeEnv-v1',\n",
        "#     entry_point='gym.envs.toy_text:FrozenLakeEnv',\n",
        "#     kwargs={'map_name':'4x4', 'is_slippery':True}\n",
        "# )\n",
        "# env = gym.make('LakeEnv-v1')\n",
        "\n",
        "env = gym.make('FrozenLake-v0')"
      ],
      "metadata": {
        "id": "TLeceZv-du0D"
      },
      "execution_count": 3,
      "outputs": []
    },
    {
      "cell_type": "code",
      "source": [
        "def epsilon(num_episodes):\n",
        "    for i in range(num_episodes):\n",
        "      e = 1. / ((i / 50) + 10)\n",
        "    print(e)\n",
        "\n",
        "epsilon(2000)"
      ],
      "metadata": {
        "colab": {
          "base_uri": "https://localhost:8080/"
        },
        "id": "d--tWL08sTxL",
        "outputId": "5da6412c-1369-4929-80ff-e6bb61e29591"
      },
      "execution_count": 4,
      "outputs": [
        {
          "output_type": "stream",
          "name": "stdout",
          "text": [
            "0.020008003201280513\n"
          ]
        }
      ]
    },
    {
      "cell_type": "code",
      "source": [
        "def train_Q(env, optimizer, num_episodes=2000, discounted_reward=.99):\n",
        "    input_size = env.observation_space.n\n",
        "    output_size = env.action_space.n\n",
        "\n",
        "    rList = []\n",
        "\n",
        "    W = tf.Variable(tf.random.uniform([input_size, output_size], 0, 0.01), dtype=tf.float32)\n",
        "    optimizer = optimizer\n",
        "\n",
        "    for i in range(num_episodes):\n",
        "        # Reset environment and get first new observation\n",
        "        state = env.reset()\n",
        "        rAll = 0\n",
        "        done = False\n",
        "        local_loss = []\n",
        "\n",
        "        e = 1. / ((i / 50) + 10)\n",
        "        # The Q-Table learning algorithm\n",
        "        while not done:\n",
        "            # Choose an action by greedly (with a chance of random action)\n",
        "            # from the Q-network\n",
        "            q_value = tf.matmul(one_hot(state), W) # 16x16, 16x4 행렬곱 = 1x4 행렬\n",
        "            q_value = np.array(q_value.numpy())\n",
        "\n",
        "            if np.random.rand(1) < e:\n",
        "                action = env.action_space.sample()\n",
        "            else:\n",
        "                action = np.argmax(q_value)\n",
        "\n",
        "            # Get new state and reward from environment\n",
        "            state_next, reward, done, _ = env.step(action)\n",
        "\n",
        "            \n",
        "            if done:\n",
        "                # Update Q, and no q_value+1, since it's action termial state\n",
        "                q_value[0, action] = reward\n",
        "\n",
        "            else:\n",
        "                # Obtain the Q_s` values by feeding the new state through our network\n",
        "                q_score_next = tf.matmul(one_hot(state_next), W)\n",
        "                # Update Q\n",
        "                q_value[0, action] = reward + discounted_reward * np.max(q_score_next)\n",
        "\n",
        "            loss = lambda: tf.reduce_sum(input_tensor=tf.square(q_value - tf.matmul(one_hot(state), W)))\n",
        "            # optimizer, loss가 작아지는 방향으로 W 업데이트\n",
        "            optimizer.minimize(loss, var_list=W)\n",
        "            rAll += reward\n",
        "            state = state_next\n",
        "        rList.append(rAll)\n",
        "\n",
        "    print(\"Success rate: \" + str(sum(rList) / num_episodes))\n",
        "    #plt.bar(range(len(rList)), rList, color=\"blue\")\n",
        "    plt.bar(range(len(rList)), rList, color='b', alpha=0.4)\n",
        "    plt.show()"
      ],
      "metadata": {
        "id": "inb42KMwjgce"
      },
      "execution_count": 5,
      "outputs": []
    },
    {
      "cell_type": "markdown",
      "source": [
        "### 1. SGD"
      ],
      "metadata": {
        "id": "2ne9OkBe1iCH"
      }
    },
    {
      "cell_type": "code",
      "source": [
        "learning_rate=0.1\n",
        "optimizer = tf.optimizers.SGD(learning_rate=learning_rate)\n",
        "train_Q(env, optimizer=optimizer)"
      ],
      "metadata": {
        "colab": {
          "base_uri": "https://localhost:8080/",
          "height": 284
        },
        "id": "oFKZ_USmrNtk",
        "outputId": "dfed6015-3894-43a9-a903-b57ed5fa6683"
      },
      "execution_count": 6,
      "outputs": [
        {
          "output_type": "stream",
          "name": "stdout",
          "text": [
            "Success rate: 0.504\n"
          ]
        },
        {
          "output_type": "display_data",
          "data": {
            "text/plain": [
              "<Figure size 432x288 with 1 Axes>"
            ],
            "image/png": "[encoded data removed]"
          },
          "metadata": {
            "needs_background": "light"
          }
        }
      ]
    },
    {
      "cell_type": "code",
      "source": [
        "learning_rate=0.1\n",
        "optimizer = tf.keras.optimizers.SGD(learning_rate=learning_rate)\n",
        "train_Q(env, optimizer=optimizer)"
      ],
      "metadata": {
        "colab": {
          "base_uri": "https://localhost:8080/",
          "height": 284
        },
        "id": "IxvG6mTfVUrV",
        "outputId": "20eb40be-020c-4215-9b51-f625ccd88be8"
      },
      "execution_count": 7,
      "outputs": [
        {
          "output_type": "stream",
          "name": "stdout",
          "text": [
            "Success rate: 0.402\n"
          ]
        },
        {
          "output_type": "display_data",
          "data": {
            "text/plain": [
              "<Figure size 432x288 with 1 Axes>"
            ],
            "image/png": "[encoded data removed]"
          },
          "metadata": {
            "needs_background": "light"
          }
        }
      ]
    },
    {
      "cell_type": "markdown",
      "source": [
        "### 2. Adam"
      ],
      "metadata": {
        "id": "JgjdZAsxnhLZ"
      }
    },
    {
      "cell_type": "code",
      "source": [
        "learning_rate=0.1\n",
        "optimizer = tf.keras.optimizers.Adam(learning_rate=learning_rate)\n",
        "train_Q(env, optimizer=optimizer)"
      ],
      "metadata": {
        "colab": {
          "base_uri": "https://localhost:8080/",
          "height": 284
        },
        "id": "wN5fB7FjX-w_",
        "outputId": "3e8196cb-997d-4d7d-f235-1817ae8cf102"
      },
      "execution_count": 8,
      "outputs": [
        {
          "output_type": "stream",
          "name": "stdout",
          "text": [
            "Success rate: 0.015\n"
          ]
        },
        {
          "output_type": "display_data",
          "data": {
            "text/plain": [
              "<Figure size 432x288 with 1 Axes>"
            ],
            "image/png": "[encoded data removed]"
          },
          "metadata": {
            "needs_background": "light"
          }
        }
      ]
    },
    {
      "cell_type": "markdown",
      "source": [
        "### 3. RMSprop"
      ],
      "metadata": {
        "id": "vV7x1S98oo_s"
      }
    },
    {
      "cell_type": "code",
      "source": [
        "learning_rate=0.1\n",
        "optimizer = tf.keras.optimizers.RMSprop(learning_rate=learning_rate)\n",
        "train_Q(env, optimizer=optimizer)"
      ],
      "metadata": {
        "colab": {
          "base_uri": "https://localhost:8080/",
          "height": 284
        },
        "id": "fNTAa2Z7YCKn",
        "outputId": "0933a8b6-a591-4c52-e17f-626f7dfde99a"
      },
      "execution_count": 9,
      "outputs": [
        {
          "output_type": "stream",
          "name": "stdout",
          "text": [
            "Success rate: 0.0155\n"
          ]
        },
        {
          "output_type": "display_data",
          "data": {
            "text/plain": [
              "<Figure size 432x288 with 1 Axes>"
            ],
            "image/png": "[encoded data removed]"
          },
          "metadata": {
            "needs_background": "light"
          }
        }
      ]
    },
    {
      "cell_type": "markdown",
      "source": [
        "### 4. Adamax"
      ],
      "metadata": {
        "id": "I7m5Yr-Goybg"
      }
    },
    {
      "cell_type": "code",
      "source": [
        "learning_rate=0.1\n",
        "optimizer = tf.keras.optimizers.Adamax(learning_rate=learning_rate)\n",
        "train_Q(env, optimizer=optimizer)"
      ],
      "metadata": {
        "colab": {
          "base_uri": "https://localhost:8080/",
          "height": 284
        },
        "id": "t1eI4ZqaZL4H",
        "outputId": "0986593b-9e4d-4acd-e221-78db0b4f1961"
      },
      "execution_count": 10,
      "outputs": [
        {
          "output_type": "stream",
          "name": "stdout",
          "text": [
            "Success rate: 0.354\n"
          ]
        },
        {
          "output_type": "display_data",
          "data": {
            "text/plain": [
              "<Figure size 432x288 with 1 Axes>"
            ],
            "image/png": "[encoded data removed]"
          },
          "metadata": {
            "needs_background": "light"
          }
        }
      ]
    }
  ]
}