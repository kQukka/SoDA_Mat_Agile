{
  "nbformat": 4,
  "nbformat_minor": 0,
  "metadata": {
    "colab": {
      "name": "Q-learning_study",
      "provenance": [],
      "collapsed_sections": [
        "3HSOEFgKfLh8",
        "l-zlv0fdhSgm",
        "prP1nChrhAZE"
      ]
    },
    "kernelspec": {
      "name": "python3",
      "display_name": "Python 3"
    },
    "language_info": {
      "name": "python"
    }
  },
  "cells": [
    {
      "cell_type": "code",
      "source": [
        "import os\n",
        "import time\n",
        "import gym\n",
        "import numpy as np\n",
        "import matplotlib.pyplot as plt\n",
        "from gym.envs.registration import register\n",
        "import random as pr\n",
        "from IPython.display import clear_output"
      ],
      "metadata": {
        "id": "t9aStZou98D2"
      },
      "execution_count": 5,
      "outputs": []
    },
    {
      "cell_type": "code",
      "source": [
        "IDX_ACTION_UP = 0\n",
        "IDX_ACTION_DOWN = 1\n",
        "IDX_ACTION_RIGHT = 2\n",
        "IDX_ACTION_LEFT = 3\n",
        "\n",
        "STR_ACTION_UP = 'U'\n",
        "STR_ACTION_DOWN = 'D'\n",
        "STR_ACTION_RIGHT = 'R'\n",
        "STR_ACTION_LEFT = 'L'\n",
        "\n",
        "POINT_WALL = [[1, 1], [1, 3], [2, 3], [3, 0]]\n",
        "POINT_GOAL = [[3, 3]]"
      ],
      "metadata": {
        "id": "tr7BESVsHZ6W"
      },
      "execution_count": 6,
      "outputs": []
    },
    {
      "cell_type": "code",
      "source": [
        "# entry_point : gym.envs 환경 불러오기\n",
        "register(\n",
        "    id='LakeEnv-v0',\n",
        "    entry_point='gym.envs.toy_text:FrozenLakeEnv',\n",
        "    kwargs={'map_name':'4x4', 'is_slippery':False}\n",
        ")\n",
        "env = gym.make('LakeEnv-v0')"
      ],
      "metadata": {
        "id": "Bva4i0PycnsR"
      },
      "execution_count": 7,
      "outputs": []
    },
    {
      "cell_type": "markdown",
      "source": [
        "### np.amax: vector에 있는 값들 중 제일 큰 값을 리턴한다."
      ],
      "metadata": {
        "id": "3HSOEFgKfLh8"
      }
    },
    {
      "cell_type": "code",
      "source": [
        "x = [1, 2, 3, 4]\n",
        "y = np.amax(x)\n",
        "print(f'np.amax 결과값: {y}')"
      ],
      "metadata": {
        "colab": {
          "base_uri": "https://localhost:8080/"
        },
        "id": "GL81tkxpfKvk",
        "outputId": "8aec09ab-1683-48b1-8f3a-830eec4f445d"
      },
      "execution_count": null,
      "outputs": [
        {
          "output_type": "stream",
          "name": "stdout",
          "text": [
            "np.amax 결과값: 4\n"
          ]
        }
      ]
    },
    {
      "cell_type": "code",
      "source": [
        "x = (1, 2, 3, 4)\n",
        "y = np.amax(x)\n",
        "print(f'np.amax 결과값: {y}')"
      ],
      "metadata": {
        "colab": {
          "base_uri": "https://localhost:8080/"
        },
        "id": "uVR8m01-fi8u",
        "outputId": "9103885f-2bc9-492a-95db-443e75396517"
      },
      "execution_count": null,
      "outputs": [
        {
          "output_type": "stream",
          "name": "stdout",
          "text": [
            "np.amax 결과값: 4\n"
          ]
        }
      ]
    },
    {
      "cell_type": "code",
      "source": [
        "x = np.array([1, 2, 3, 4])\n",
        "y = np.amax(x)\n",
        "print(f'np.amax 결과값: {y}')"
      ],
      "metadata": {
        "colab": {
          "base_uri": "https://localhost:8080/"
        },
        "id": "Trb2OkSehfo8",
        "outputId": "af71ae03-7919-4e34-c1f8-2f13128256c8"
      },
      "execution_count": null,
      "outputs": [
        {
          "output_type": "stream",
          "name": "stdout",
          "text": [
            "np.amax 결과값: 4\n"
          ]
        }
      ]
    },
    {
      "cell_type": "code",
      "source": [
        "x = [[1, 2, 3, 4], [5, 6, 7, 8]]\n",
        "y = np.amax(x)\n",
        "print(f'np.amax 결과값: {y}')"
      ],
      "metadata": {
        "colab": {
          "base_uri": "https://localhost:8080/"
        },
        "id": "GIrDXusVfzR6",
        "outputId": "15751703-64a7-46da-8e14-6c40e46d696e"
      },
      "execution_count": null,
      "outputs": [
        {
          "output_type": "stream",
          "name": "stdout",
          "text": [
            "np.amax 결과값: 8\n"
          ]
        }
      ]
    },
    {
      "cell_type": "code",
      "source": [
        "import tensorflow as tf\n",
        "\n",
        "W = tf.Variable(tf.random.uniform([16, 4], 0, 0.01), dtype=tf.float32)\n",
        "print(W)"
      ],
      "metadata": {
        "colab": {
          "base_uri": "https://localhost:8080/"
        },
        "id": "Kv6w4Y6zgFrs",
        "outputId": "93401316-e192-4eed-d003-b89432b21df1"
      },
      "execution_count": null,
      "outputs": [
        {
          "output_type": "stream",
          "name": "stdout",
          "text": [
            "<tf.Variable 'Variable:0' shape=(16, 4) dtype=float32, numpy=\n",
            "array([[0.00868166, 0.00934483, 0.00820106, 0.00508401],\n",
            "       [0.00755097, 0.00251805, 0.00701937, 0.00842373],\n",
            "       [0.00102838, 0.00120842, 0.00124298, 0.00855689],\n",
            "       [0.00641803, 0.00304118, 0.00613001, 0.00282294],\n",
            "       [0.00027545, 0.00590179, 0.0061584 , 0.00607903],\n",
            "       [0.00925149, 0.00916138, 0.00391882, 0.00879248],\n",
            "       [0.0071175 , 0.00419181, 0.00953063, 0.00499581],\n",
            "       [0.00988841, 0.00110458, 0.00460787, 0.00613671],\n",
            "       [0.00663051, 0.00344684, 0.00992799, 0.0098496 ],\n",
            "       [0.00773904, 0.00850685, 0.00578428, 0.00945927],\n",
            "       [0.00285485, 0.0037339 , 0.00745774, 0.00179794],\n",
            "       [0.00586814, 0.00783353, 0.00223855, 0.00410796],\n",
            "       [0.00839075, 0.00601778, 0.00927449, 0.00368978],\n",
            "       [0.00432354, 0.00386185, 0.00602001, 0.00620403],\n",
            "       [0.00242076, 0.00673061, 0.00845075, 0.00112757],\n",
            "       [0.00521808, 0.0014299 , 0.00850301, 0.00675943]], dtype=float32)>\n"
          ]
        }
      ]
    },
    {
      "cell_type": "markdown",
      "source": [
        "고차원 배열도 가능"
      ],
      "metadata": {
        "id": "pYfm6UsSgwjW"
      }
    },
    {
      "cell_type": "code",
      "source": [
        "y = np.amax(W)\n",
        "print(f'np.amax 결과값: {y}')"
      ],
      "metadata": {
        "colab": {
          "base_uri": "https://localhost:8080/"
        },
        "id": "9fDkGNR9gVGA",
        "outputId": "f4a927a3-a72f-4b37-919a-8f464a4aa017"
      },
      "execution_count": null,
      "outputs": [
        {
          "output_type": "stream",
          "name": "stdout",
          "text": [
            "np.amax 결과값: 0.00992798525840044\n"
          ]
        }
      ]
    },
    {
      "cell_type": "code",
      "source": [
        "y = np.amax(W[0])\n",
        "print(f'np.amax 결과값: {y}')"
      ],
      "metadata": {
        "colab": {
          "base_uri": "https://localhost:8080/"
        },
        "id": "ghuH6DpmgkQ0",
        "outputId": "71cf95d4-724f-4131-a922-521e6e86462a"
      },
      "execution_count": null,
      "outputs": [
        {
          "output_type": "stream",
          "name": "stdout",
          "text": [
            "np.amax 결과값: 0.009344825521111488\n"
          ]
        }
      ]
    },
    {
      "cell_type": "markdown",
      "source": [
        "### np.nonzero: vector의 요소들 중 0이 아닌 값들의 index를 반환해주는 함수"
      ],
      "metadata": {
        "id": "l-zlv0fdhSgm"
      }
    },
    {
      "cell_type": "code",
      "source": [
        "x = [1, 0, 0, 4]\n",
        "y = np.nonzero(x)\n",
        "print(f'np.nonzero 결과값: {y}')"
      ],
      "metadata": {
        "colab": {
          "base_uri": "https://localhost:8080/"
        },
        "id": "XnOEAs-YhWU3",
        "outputId": "04ccea3d-be49-4263-a369-bc6b73f51519"
      },
      "execution_count": null,
      "outputs": [
        {
          "output_type": "stream",
          "name": "stdout",
          "text": [
            "np.nonzero 결과값: (array([0, 3]),)\n"
          ]
        }
      ]
    },
    {
      "cell_type": "code",
      "source": [
        "x = [1, 0, 0, 0]\n",
        "y = np.nonzero(x)\n",
        "print(f'np.nonzero 결과값: {y}')"
      ],
      "metadata": {
        "colab": {
          "base_uri": "https://localhost:8080/"
        },
        "id": "9GLQAjOhh1_M",
        "outputId": "9bab7320-1871-4ca8-c765-dc7ad9d3201f"
      },
      "execution_count": null,
      "outputs": [
        {
          "output_type": "stream",
          "name": "stdout",
          "text": [
            "np.nonzero 결과값: (array([0]),)\n"
          ]
        }
      ]
    },
    {
      "cell_type": "code",
      "source": [
        "x = [[1, 0, 0, 4], [0, 1, 3, 0]]\n",
        "y = np.nonzero(x)\n",
        "print(x)\n",
        "print(f'np.nonzero 결과값: {y}')"
      ],
      "metadata": {
        "colab": {
          "base_uri": "https://localhost:8080/"
        },
        "id": "0b5C8Zseh9nb",
        "outputId": "189b837d-3aca-4511-bb9e-3d65b9c050b4"
      },
      "execution_count": null,
      "outputs": [
        {
          "output_type": "stream",
          "name": "stdout",
          "text": [
            "[[1, 0, 0, 4], [0, 1, 3, 0]]\n",
            "np.nonzero 결과값: (array([0, 0, 1, 1]), array([0, 3, 1, 2]))\n"
          ]
        }
      ]
    },
    {
      "cell_type": "code",
      "source": [
        "x = np.array([[1, 0, 7], [8, 1, 0], [1, 0, 0]])\n",
        "y = np.nonzero(x)\n",
        "print(x)\n",
        "print(f'np.nonzero 결과값: {y}')"
      ],
      "metadata": {
        "colab": {
          "base_uri": "https://localhost:8080/"
        },
        "id": "cmFT9J1jiHig",
        "outputId": "0ab9e92d-74b5-44c3-da86-9642dd388df1"
      },
      "execution_count": null,
      "outputs": [
        {
          "output_type": "stream",
          "name": "stdout",
          "text": [
            "[[1 0 7]\n",
            " [8 1 0]\n",
            " [1 0 0]]\n",
            "np.nonzero 결과값: (array([0, 0, 1, 1, 2]), array([0, 2, 0, 1, 0]))\n"
          ]
        }
      ]
    },
    {
      "cell_type": "markdown",
      "source": [
        "np.transpose는 행과 열을 바꿔준다."
      ],
      "metadata": {
        "id": "AAK_eNsespYW"
      }
    },
    {
      "cell_type": "code",
      "source": [
        "y = np.transpose(np.nonzero(x))\n",
        "print('np.nonzero 결과값 해석')\n",
        "print(y)"
      ],
      "metadata": {
        "colab": {
          "base_uri": "https://localhost:8080/"
        },
        "id": "P2tf_FKllmZk",
        "outputId": "8cea5b95-df71-4deb-8df7-f58adf30ac2e"
      },
      "execution_count": null,
      "outputs": [
        {
          "output_type": "stream",
          "name": "stdout",
          "text": [
            "np.nonzero 결과값 해석\n",
            "[[0 0]\n",
            " [0 2]\n",
            " [1 0]\n",
            " [1 1]\n",
            " [2 0]]\n"
          ]
        }
      ]
    },
    {
      "cell_type": "code",
      "source": [
        "print(f'x[0, 0]: {x[0, 0]}')\n",
        "print(f'x[0, 2]: {x[0, 2]}')\n",
        "print(f'x[1, 0]: {x[1, 0]}')\n",
        "print(f'x[1, 1]: {x[1, 1]}')\n",
        "print(f'x[2, 0]: {x[2, 0]}')"
      ],
      "metadata": {
        "colab": {
          "base_uri": "https://localhost:8080/"
        },
        "id": "LzggnNIZmCMU",
        "outputId": "4bc847c2-ff47-462d-b814-9e338b2a460f"
      },
      "execution_count": null,
      "outputs": [
        {
          "output_type": "stream",
          "name": "stdout",
          "text": [
            "x[0, 0]: 1\n",
            "x[0, 2]: 7\n",
            "x[1, 0]: 8\n",
            "x[1, 1]: 1\n",
            "x[2, 0]: 1\n"
          ]
        }
      ]
    },
    {
      "cell_type": "code",
      "source": [
        "x = [[1, 0, 0, 4], [0, 1, 3, 0]]\n",
        "y1 = np.nonzero(x)[0]\n",
        "y2 = np.nonzero(x)[1]\n",
        "print(y1)\n",
        "print(y2)"
      ],
      "metadata": {
        "colab": {
          "base_uri": "https://localhost:8080/"
        },
        "id": "tHfDoK-StwdT",
        "outputId": "d3c8f7f8-a173-421a-e2b9-a885293c617b"
      },
      "execution_count": null,
      "outputs": [
        {
          "output_type": "stream",
          "name": "stdout",
          "text": [
            "[0 0 1 1]\n",
            "[0 3 1 2]\n"
          ]
        }
      ]
    },
    {
      "cell_type": "code",
      "source": [
        "x[0]"
      ],
      "metadata": {
        "colab": {
          "base_uri": "https://localhost:8080/"
        },
        "id": "2Ui3CWPYupeD",
        "outputId": "d2f6642f-d72c-49b9-c6c8-eadc9332f4cd"
      },
      "execution_count": null,
      "outputs": [
        {
          "output_type": "execute_result",
          "data": {
            "text/plain": [
              "[1, 0, 0, 4]"
            ]
          },
          "metadata": {},
          "execution_count": 44
        }
      ]
    },
    {
      "cell_type": "code",
      "source": [
        "x[1]"
      ],
      "metadata": {
        "colab": {
          "base_uri": "https://localhost:8080/"
        },
        "id": "lB4wst-YuvXT",
        "outputId": "c7c4b2a2-a6ca-48b9-b644-47e86b4b89e4"
      },
      "execution_count": null,
      "outputs": [
        {
          "output_type": "execute_result",
          "data": {
            "text/plain": [
              "[0, 1, 3, 0]"
            ]
          },
          "metadata": {},
          "execution_count": 45
        }
      ]
    },
    {
      "cell_type": "markdown",
      "source": [
        "### rargmax 함수 구현 및 분석"
      ],
      "metadata": {
        "id": "prP1nChrhAZE"
      }
    },
    {
      "cell_type": "code",
      "source": [
        "def rargmax(vector):\n",
        "    m = np.amax(vector)\n",
        "    indices = np.nonzero(vector == m)[0]\n",
        "    return pr.choice(indices)"
      ],
      "metadata": {
        "id": "aeF2kSJse5v6"
      },
      "execution_count": 8,
      "outputs": []
    },
    {
      "cell_type": "code",
      "source": [
        "x = [1, 0, 0, 0]\n",
        "m = np.amax(x)\n",
        "i = np.nonzero(x)\n",
        "print(f'np.amax: {m}')\n",
        "print(f'np.nonzero: {i}')"
      ],
      "metadata": {
        "colab": {
          "base_uri": "https://localhost:8080/"
        },
        "id": "Bg4I1aCJvbsN",
        "outputId": "839f6909-92b8-4392-d1aa-23de5beb7ce9"
      },
      "execution_count": null,
      "outputs": [
        {
          "output_type": "stream",
          "name": "stdout",
          "text": [
            "np.amax: 1\n",
            "np.nonzero: (array([0]),)\n"
          ]
        }
      ]
    },
    {
      "cell_type": "code",
      "source": [
        "i = np.nonzero([1])\n",
        "print(f'np.nonzero: {i}')"
      ],
      "metadata": {
        "colab": {
          "base_uri": "https://localhost:8080/"
        },
        "id": "2qA9fF7oxceS",
        "outputId": "02abda51-d675-499e-fa69-7eb81c531ab2"
      },
      "execution_count": null,
      "outputs": [
        {
          "output_type": "stream",
          "name": "stdout",
          "text": [
            "np.nonzero: (array([0]),)\n"
          ]
        }
      ]
    },
    {
      "cell_type": "code",
      "source": [
        "m = np.amax(x)\n",
        "i = np.nonzero(x == m)[0]\n",
        "print(i)"
      ],
      "metadata": {
        "colab": {
          "base_uri": "https://localhost:8080/"
        },
        "id": "gB-0DVOSwXue",
        "outputId": "2b712fe3-eaf3-4171-c497-30040b509f62"
      },
      "execution_count": null,
      "outputs": [
        {
          "output_type": "stream",
          "name": "stdout",
          "text": [
            "[0]\n"
          ]
        }
      ]
    },
    {
      "cell_type": "code",
      "source": [
        "x = [0, 0, 1, 0]\n",
        "m = np.amax(x)\n",
        "i = np.nonzero(x == m)[0]\n",
        "print(i)"
      ],
      "metadata": {
        "colab": {
          "base_uri": "https://localhost:8080/"
        },
        "id": "d2vYM8FRwfZE",
        "outputId": "59338adc-9728-482f-850d-274bf7411957"
      },
      "execution_count": null,
      "outputs": [
        {
          "output_type": "stream",
          "name": "stdout",
          "text": [
            "[2]\n"
          ]
        }
      ]
    },
    {
      "cell_type": "markdown",
      "source": [
        "# Dummy Q-learning 구현"
      ],
      "metadata": {
        "id": "m6CSs1TLyM_0"
      }
    },
    {
      "cell_type": "code",
      "source": [
        "# 시작하자마자 q-value 생성 및 초기화\n",
        "q_value = np.zeros([env.observation_space.n, env.action_space.n])\n",
        "\n",
        "# reword 저장\n",
        "log_action = []\n",
        "log_q_value = []\n",
        "log_reword = []\n",
        "\n",
        "num_episodes = 2000\n",
        "\n",
        "# 학습을 진행하면서 q-value는 초기화하지 않고 남겨서 다음에 더 빨리 목적지에 도달할 수 있게 합니다\n",
        "for i in range(num_episodes):\n",
        "    done = False\n",
        "    rAll = 0\n",
        "    state = env.reset()\n",
        "\n",
        "    buf_q = []\n",
        "    buf_act = []\n",
        "\n",
        "    while not done:\n",
        "        action = rargmax(q_value[state, :])\n",
        "        next_state, reward, done, _ = env.step(action)\n",
        "\n",
        "        q_value[state, action] = reward + np.max(q_value[next_state, :])\n",
        "        buf_q.append(list(q_value[state]))\n",
        "        if done:\n",
        "             buf_q.append(list(q_value[next_state]))\n",
        "\n",
        "        buf_act.append(action)\n",
        "        rAll += reward\n",
        "        state = next_state\n",
        "    \n",
        "    log_q_value.append(buf_q)\n",
        "    log_action.append(buf_act)\n",
        "    log_reword.append(rAll)\n",
        "        \n",
        "print(\"Success rate : \"+ str(sum(log_reword) / num_episodes))\n",
        "print(\"Final Q-Table Values\")\n",
        "print(\"LEFT DOWN RIGHT UP\")\n",
        "print(q_value)\n",
        "plt.bar(range(len(log_reword)), log_reword, color=\"blue\")\n",
        "plt.show()"
      ],
      "metadata": {
        "id": "kKGH4LM8cT4H",
        "colab": {
          "base_uri": "https://localhost:8080/",
          "height": 614
        },
        "outputId": "e05a3713-7c74-4f88-e584-ad3641da4b48"
      },
      "execution_count": 9,
      "outputs": [
        {
          "output_type": "stream",
          "name": "stdout",
          "text": [
            "Success rate : 0.964\n",
            "Final Q-Table Values\n",
            "LEFT DOWN RIGHT UP\n",
            "[[0. 0. 1. 0.]\n",
            " [0. 0. 1. 0.]\n",
            " [0. 1. 0. 0.]\n",
            " [0. 0. 0. 0.]\n",
            " [0. 1. 0. 0.]\n",
            " [0. 0. 0. 0.]\n",
            " [0. 1. 0. 0.]\n",
            " [0. 0. 0. 0.]\n",
            " [0. 0. 1. 0.]\n",
            " [0. 0. 1. 0.]\n",
            " [0. 1. 0. 0.]\n",
            " [0. 0. 0. 0.]\n",
            " [0. 0. 0. 0.]\n",
            " [0. 0. 0. 0.]\n",
            " [0. 0. 1. 0.]\n",
            " [0. 0. 0. 0.]]\n"
          ]
        },
        {
          "output_type": "display_data",
          "data": {
            "text/plain": [
              "<Figure size 432x288 with 1 Axes>"
            ],
            "image/png": "[encoded data removed]"
          },
          "metadata": {
            "needs_background": "light"
          }
        }
      ]
    },
    {
      "cell_type": "markdown",
      "source": [
        "1. q-table에서 해당하는 state의 행을 가져온다.\n",
        "2. rargmax 함수를 통해 action을 선택한다.\n",
        "3. goal지점에 도착할 때 까지 state에서 action을 취할 때 얻는 q-value값을 받아온다.\n",
        "4. goal지점에도착하면 한 에피소드 종료\n",
        "\n"
      ],
      "metadata": {
        "id": "T9sq5hgU7N73"
      }
    },
    {
      "cell_type": "code",
      "source": [
        "Q = np.identity(10)\n",
        "Q"
      ],
      "metadata": {
        "colab": {
          "base_uri": "https://localhost:8080/"
        },
        "id": "LLrgnQax_Qwv",
        "outputId": "57d72b01-d41d-4a2c-e163-c800e081aa28"
      },
      "execution_count": null,
      "outputs": [
        {
          "output_type": "execute_result",
          "data": {
            "text/plain": [
              "array([[1., 0., 0., 0., 0., 0., 0., 0., 0., 0.],\n",
              "       [0., 1., 0., 0., 0., 0., 0., 0., 0., 0.],\n",
              "       [0., 0., 1., 0., 0., 0., 0., 0., 0., 0.],\n",
              "       [0., 0., 0., 1., 0., 0., 0., 0., 0., 0.],\n",
              "       [0., 0., 0., 0., 1., 0., 0., 0., 0., 0.],\n",
              "       [0., 0., 0., 0., 0., 1., 0., 0., 0., 0.],\n",
              "       [0., 0., 0., 0., 0., 0., 1., 0., 0., 0.],\n",
              "       [0., 0., 0., 0., 0., 0., 0., 1., 0., 0.],\n",
              "       [0., 0., 0., 0., 0., 0., 0., 0., 1., 0.],\n",
              "       [0., 0., 0., 0., 0., 0., 0., 0., 0., 1.]])"
            ]
          },
          "metadata": {},
          "execution_count": 97
        }
      ]
    },
    {
      "cell_type": "code",
      "source": [
        "Q[0, :]"
      ],
      "metadata": {
        "colab": {
          "base_uri": "https://localhost:8080/"
        },
        "id": "XiNccatH_VQt",
        "outputId": "445f43b0-b62f-4059-d72d-3c193b0954de"
      },
      "execution_count": null,
      "outputs": [
        {
          "output_type": "execute_result",
          "data": {
            "text/plain": [
              "array([1., 0., 0., 0., 0., 0., 0., 0., 0., 0.])"
            ]
          },
          "metadata": {},
          "execution_count": 93
        }
      ]
    },
    {
      "cell_type": "code",
      "source": [
        "Q[7, :]"
      ],
      "metadata": {
        "colab": {
          "base_uri": "https://localhost:8080/"
        },
        "id": "YiFm81N3_0xt",
        "outputId": "c58de331-fed2-4f2d-e81a-118eddfa7202"
      },
      "execution_count": null,
      "outputs": [
        {
          "output_type": "execute_result",
          "data": {
            "text/plain": [
              "array([0., 0., 0., 0., 0., 0., 0., 1., 0., 0.])"
            ]
          },
          "metadata": {},
          "execution_count": 94
        }
      ]
    },
    {
      "cell_type": "code",
      "source": [
        "Q = np.zeros([4, 4])\n",
        "Q[0, 2] = 1\n",
        "Q"
      ],
      "metadata": {
        "colab": {
          "base_uri": "https://localhost:8080/"
        },
        "id": "ttuVwGiMAfdh",
        "outputId": "20d8b0ac-63fd-4607-c80e-44a5b4d165e8"
      },
      "execution_count": null,
      "outputs": [
        {
          "output_type": "execute_result",
          "data": {
            "text/plain": [
              "array([[0., 0., 1., 0.],\n",
              "       [0., 0., 0., 0.],\n",
              "       [0., 0., 0., 0.],\n",
              "       [0., 0., 0., 0.]])"
            ]
          },
          "metadata": {},
          "execution_count": 99
        }
      ]
    },
    {
      "cell_type": "markdown",
      "source": [
        "한 에피소드에서 나오는 action과 q-value값을 저장하고 for문 밖에 리스트에 저장해서 한 에피소드의 action과 q-value를 알 수 있도록 구현했다."
      ],
      "metadata": {
        "id": "Qs3eOSvTBsvk"
      }
    },
    {
      "cell_type": "code",
      "source": [
        "buf_q[-2]"
      ],
      "metadata": {
        "colab": {
          "base_uri": "https://localhost:8080/"
        },
        "id": "J53sm1hy24DY",
        "outputId": "d171c195-9172-493c-dfde-ce59651a961a"
      },
      "execution_count": null,
      "outputs": [
        {
          "output_type": "execute_result",
          "data": {
            "text/plain": [
              "[0.0, 0.0, 1.0, 0.0]"
            ]
          },
          "metadata": {},
          "execution_count": 63
        }
      ]
    },
    {
      "cell_type": "code",
      "source": [
        "log_q_value[-1]"
      ],
      "metadata": {
        "colab": {
          "base_uri": "https://localhost:8080/"
        },
        "id": "vcqOHVa160uF",
        "outputId": "e32d8d95-1a48-4f22-f9f0-e424a57d0353"
      },
      "execution_count": null,
      "outputs": [
        {
          "output_type": "execute_result",
          "data": {
            "text/plain": [
              "[[0.0, 0.0, 1.0, 0.0],\n",
              " [0.0, 0.0, 1.0, 0.0],\n",
              " [0.0, 1.0, 0.0, 0.0],\n",
              " [0.0, 1.0, 0.0, 0.0],\n",
              " [0.0, 1.0, 0.0, 0.0],\n",
              " [0.0, 0.0, 1.0, 0.0],\n",
              " [0.0, 0.0, 0.0, 0.0]]"
            ]
          },
          "metadata": {},
          "execution_count": 62
        }
      ]
    },
    {
      "cell_type": "code",
      "source": [
        "buf_act[-1]"
      ],
      "metadata": {
        "colab": {
          "base_uri": "https://localhost:8080/"
        },
        "id": "31Dzu0z46gyR",
        "outputId": "f208ad31-b909-413a-f5ad-9b88af842eba"
      },
      "execution_count": null,
      "outputs": [
        {
          "output_type": "execute_result",
          "data": {
            "text/plain": [
              "2"
            ]
          },
          "metadata": {},
          "execution_count": 60
        }
      ]
    },
    {
      "cell_type": "code",
      "source": [
        "log_action[-1]"
      ],
      "metadata": {
        "colab": {
          "base_uri": "https://localhost:8080/"
        },
        "id": "6JVYLP6j6js5",
        "outputId": "1b39bf5f-26b7-4093-f69c-dc165a04d022"
      },
      "execution_count": null,
      "outputs": [
        {
          "output_type": "execute_result",
          "data": {
            "text/plain": [
              "[2, 2, 1, 1, 1, 2]"
            ]
          },
          "metadata": {},
          "execution_count": 59
        }
      ]
    },
    {
      "cell_type": "markdown",
      "source": [
        "## 시각화 함수 분석"
      ],
      "metadata": {
        "id": "abn_Ry46CjIU"
      }
    },
    {
      "cell_type": "markdown",
      "source": [
        "### 1. get_cnt_tracking 분석"
      ],
      "metadata": {
        "id": "JM_-TFnoi3n9"
      }
    },
    {
      "cell_type": "code",
      "source": [
        "for act_ in log_action[:5]:\n",
        "    print(act_)"
      ],
      "metadata": {
        "id": "MfJELRBkCkMV",
        "colab": {
          "base_uri": "https://localhost:8080/"
        },
        "outputId": "b4541a5d-16cd-4698-87bd-92f034c8f950"
      },
      "execution_count": 10,
      "outputs": [
        {
          "output_type": "stream",
          "name": "stdout",
          "text": [
            "[1, 0, 0, 2]\n",
            "[3, 0, 2, 2, 0, 2, 2, 0, 3, 3, 3, 0, 3, 2, 1, 3, 2, 3, 2, 1]\n",
            "[3, 1, 2]\n",
            "[0, 0, 1, 1, 2, 1, 2, 1, 1, 0, 3, 1, 3, 1, 2, 0, 2, 2]\n",
            "[1, 2]\n"
          ]
        }
      ]
    },
    {
      "cell_type": "code",
      "source": [
        "len(log_action[0])"
      ],
      "metadata": {
        "colab": {
          "base_uri": "https://localhost:8080/"
        },
        "id": "WyhUeWodi190",
        "outputId": "49af45d4-86dc-421b-ac1c-b87a02efa772"
      },
      "execution_count": 11,
      "outputs": [
        {
          "output_type": "execute_result",
          "data": {
            "text/plain": [
              "4"
            ]
          },
          "metadata": {},
          "execution_count": 11
        }
      ]
    },
    {
      "cell_type": "code",
      "source": [
        "buf_tracking = [[None for _ in range(4)] for _ in range(4)]\n",
        "buf_tracking"
      ],
      "metadata": {
        "colab": {
          "base_uri": "https://localhost:8080/"
        },
        "id": "iVcdsveSiwcs",
        "outputId": "9ea9bbef-deca-4615-a60f-3c595a57e75f"
      },
      "execution_count": 12,
      "outputs": [
        {
          "output_type": "execute_result",
          "data": {
            "text/plain": [
              "[[None, None, None, None],\n",
              " [None, None, None, None],\n",
              " [None, None, None, None],\n",
              " [None, None, None, None]]"
            ]
          },
          "metadata": {},
          "execution_count": 12
        }
      ]
    },
    {
      "cell_type": "code",
      "source": [
        "x = [[1, 2, 3, 4],\n",
        "     [5, 6, 7, 8],\n",
        "     [9, 10, 11, 12],\n",
        "     [13, 14, 15, 16]]\n",
        "\n",
        "x[0][0]"
      ],
      "metadata": {
        "colab": {
          "base_uri": "https://localhost:8080/"
        },
        "id": "PoAEt0VFT54A",
        "outputId": "ae074176-9577-41a2-f7ba-8b42360037b5"
      },
      "execution_count": 13,
      "outputs": [
        {
          "output_type": "execute_result",
          "data": {
            "text/plain": [
              "1"
            ]
          },
          "metadata": {},
          "execution_count": 13
        }
      ]
    },
    {
      "cell_type": "code",
      "source": [
        "def get_cnt_tracking(log_action):\n",
        "    tracking = []\n",
        "    for act_ in log_action:\n",
        "        buf_tracking = [[None for _ in range(4)] for _ in range(4)]\n",
        "\n",
        "        row = 0\n",
        "        col = 0\n",
        "        cnt = 0\n",
        "        while cnt < len(act_):\n",
        "            # 조건부 표현식, 예외처리\n",
        "            row = 0 if row < 0 else 3 if row >= 4 else row\n",
        "            col = 0 if col < 0 else 3 if col >= 4 else col\n",
        "\n",
        "            # agent가 지나가는 경로를 순서대로 표시해줌\n",
        "            if buf_tracking[row][col] is None:\n",
        "                buf_tracking[row][col] = str(cnt)\n",
        "            else:\n",
        "                buf_tracking[row][col] = buf_tracking[row][col] + ', ' + str(cnt)\n",
        "\n",
        "            # ---------------------------------------------------------------------\n",
        "            # IDX_ACTION_UP = 0\n",
        "            # IDX_ACTION_DOWN = 1\n",
        "            # IDX_ACTION_RIGHT = 2\n",
        "            # IDX_ACTION_LEFT = 3\n",
        "            # ---------------------------------------------------------------------\n",
        "              \n",
        "            if act_[cnt] == IDX_ACTION_UP:\n",
        "                row -= 1\n",
        "            elif act_[cnt] == IDX_ACTION_DOWN:\n",
        "                row += 1\n",
        "            elif act_[cnt] == IDX_ACTION_RIGHT:\n",
        "                col += 1\n",
        "            elif act_[cnt] == IDX_ACTION_LEFT:\n",
        "                col -= 1\n",
        "            else:\n",
        "                pass\n",
        "            cnt += 1\n",
        "        tracking.append(buf_tracking)\n",
        "    return tracking"
      ],
      "metadata": {
        "id": "A8Y2pax1fspa"
      },
      "execution_count": 15,
      "outputs": []
    },
    {
      "cell_type": "code",
      "source": [
        "x = get_cnt_tracking(log_action)\n",
        "x[-1]"
      ],
      "metadata": {
        "colab": {
          "base_uri": "https://localhost:8080/"
        },
        "id": "NhIAc9JquIh1",
        "outputId": "9db178d5-61f1-46be-ba22-488f78c804a8"
      },
      "execution_count": 21,
      "outputs": [
        {
          "output_type": "execute_result",
          "data": {
            "text/plain": [
              "[['0', '1', '2', None],\n",
              " [None, None, '3', None],\n",
              " [None, None, '4', None],\n",
              " [None, None, '5', None]]"
            ]
          },
          "metadata": {},
          "execution_count": 21
        }
      ]
    },
    {
      "cell_type": "markdown",
      "source": [
        "### 2. get_point_tracking"
      ],
      "metadata": {
        "id": "3EP_AIdfXgeQ"
      }
    },
    {
      "cell_type": "code",
      "source": [
        "# agent가 이동한 좌표를 시각화해주는 함수\n",
        "def get_point_tracking(log_action):\n",
        "    tracking = []\n",
        "    for act_ in log_action:\n",
        "        row = 0\n",
        "        col = 0\n",
        "        cnt = 0\n",
        "        buf_tracking = [[row, col]]\n",
        "        while cnt < len(act_):\n",
        "            if act_[cnt] == IDX_ACTION_UP:\n",
        "                row -= 1\n",
        "            elif act_[cnt] == IDX_ACTION_DOWN:\n",
        "                row += 1\n",
        "            elif act_[cnt] == IDX_ACTION_RIGHT:\n",
        "                col += 1\n",
        "            elif act_[cnt] == IDX_ACTION_LEFT:\n",
        "                col -= 1\n",
        "            else:\n",
        "                pass\n",
        "\n",
        "            row = 0 if row < 0 else 3 if row >= 4 else row\n",
        "            col = 0 if col < 0 else 3 if col >= 4 else col\n",
        "            buf_tracking.append([row, col])\n",
        "            cnt += 1\n",
        "        tracking.append(buf_tracking)\n",
        "    return tracking"
      ],
      "metadata": {
        "id": "rSx4wZJPVf5G"
      },
      "execution_count": 22,
      "outputs": []
    },
    {
      "cell_type": "code",
      "source": [
        "x = get_point_tracking(log_action)\n",
        "x[-1]"
      ],
      "metadata": {
        "colab": {
          "base_uri": "https://localhost:8080/"
        },
        "id": "vaPthw1XXqCW",
        "outputId": "3343534c-37e7-4af9-fe40-0de799d6c8bc"
      },
      "execution_count": 27,
      "outputs": [
        {
          "output_type": "execute_result",
          "data": {
            "text/plain": [
              "[[0, 0], [0, 1], [0, 2], [1, 2], [2, 2], [3, 2], [3, 3]]"
            ]
          },
          "metadata": {},
          "execution_count": 27
        }
      ]
    },
    {
      "cell_type": "markdown",
      "source": [
        "### 3. print_result_q"
      ],
      "metadata": {
        "id": "9u-zp0_bYpIm"
      }
    },
    {
      "cell_type": "code",
      "source": [
        "# Q-Table을 출력해주는 함수\n",
        "# q_value 데이터는 에피소드를 진행해도 값을 계속 남겨두기 때문에 마지막 q-table은 최종 경로를 담고 있다.\n",
        "def print_result_q(q_value, log_reword, num_episodes):\n",
        "    print('Success rate : ' + str(sum(log_reword) / num_episodes))\n",
        "    print('Final Q-Table')\n",
        "    # print('LEFT DOWN RIGHT UP')\n",
        "    cnt = 0\n",
        "    while cnt < len(q_value):\n",
        "        txt = ''\n",
        "        for _ in range(4):\n",
        "            txt += ','.join([str(int(e)) for e in q_value[cnt]])\n",
        "            txt += ' | '\n",
        "            cnt += 1\n",
        "        print(txt)"
      ],
      "metadata": {
        "id": "-ydEOFpwXvOu"
      },
      "execution_count": 28,
      "outputs": []
    },
    {
      "cell_type": "code",
      "source": [
        "print_result_q(q_value, log_reword, num_episodes)"
      ],
      "metadata": {
        "colab": {
          "base_uri": "https://localhost:8080/"
        },
        "id": "i4GoVCDbYrqH",
        "outputId": "775af457-2a6a-4c8b-92a9-a3d3a2d2266c"
      },
      "execution_count": 29,
      "outputs": [
        {
          "output_type": "stream",
          "name": "stdout",
          "text": [
            "Success rate : 0.964\n",
            "Final Q-Table\n",
            "0,0,1,0 | 0,0,1,0 | 0,1,0,0 | 0,0,0,0 | \n",
            "0,1,0,0 | 0,0,0,0 | 0,1,0,0 | 0,0,0,0 | \n",
            "0,0,1,0 | 0,0,1,0 | 0,1,0,0 | 0,0,0,0 | \n",
            "0,0,0,0 | 0,0,0,0 | 0,0,1,0 | 0,0,0,0 | \n"
          ]
        }
      ]
    },
    {
      "cell_type": "markdown",
      "source": [
        "### 4. print_str_direct"
      ],
      "metadata": {
        "id": "VkxNRywnZzwo"
      }
    },
    {
      "cell_type": "code",
      "source": [
        "def print_str_direct(q_value):\n",
        "    cnt = 0\n",
        "    while cnt < len(q_value):\n",
        "        txt = ''\n",
        "        for _ in range(4):\n",
        "            q = ''.join([str(int(e)) for e in q_value[cnt]])\n",
        "            if q == '1000':\n",
        "                txt += STR_ACTION_UP\n",
        "            elif q == '0100':\n",
        "                txt += STR_ACTION_DOWN\n",
        "            elif q == '0010':\n",
        "                txt += STR_ACTION_RIGHT\n",
        "            elif q == '0001':\n",
        "                txt += STR_ACTION_LEFT\n",
        "            else:\n",
        "                txt += ' '\n",
        "            txt += ' | '\n",
        "            cnt += 1\n",
        "        print(txt)"
      ],
      "metadata": {
        "id": "tuSxU2nPY0Sv"
      },
      "execution_count": 30,
      "outputs": []
    },
    {
      "cell_type": "code",
      "source": [
        "print_str_direct(q_value)"
      ],
      "metadata": {
        "colab": {
          "base_uri": "https://localhost:8080/"
        },
        "id": "K2V0FDeaZ5UQ",
        "outputId": "28b9f23f-a547-4910-a235-ae86af817fb5"
      },
      "execution_count": 31,
      "outputs": [
        {
          "output_type": "stream",
          "name": "stdout",
          "text": [
            "R | R | D |   | \n",
            "D |   | D |   | \n",
            "R | R | D |   | \n",
            "  |   | R |   | \n"
          ]
        }
      ]
    },
    {
      "cell_type": "markdown",
      "source": [
        "### 5. print_tracking_graphic"
      ],
      "metadata": {
        "id": "rcq-AC5QaOEf"
      }
    },
    {
      "cell_type": "code",
      "source": [
        "# agent가 좌표로 이동하는 것을 시각화\n",
        "def print_tracking_graphic(tracking, wall, goal):\n",
        "    for idx, trk in enumerate(tracking):\n",
        "        print(idx)\n",
        "        map_ = [['  ' for _ in range(4)] for _ in range(4)]\n",
        "        for p_ in wall:\n",
        "            map_[p_[0]][p_[1]] = '■'\n",
        "        for p_ in goal:\n",
        "            map_[p_[0]][p_[1]] = 'G'\n",
        "        \n",
        "        # agnet\n",
        "        map_[trk[0]][trk[1]] = '☆'\n",
        "        for row in range(4):\n",
        "            print(map_[row])\n",
        "        time.sleep(1)\n",
        "        if idx < len(tracking)-1:\n",
        "            clear_output(wait=False)\n"
      ],
      "metadata": {
        "id": "z_WS_J2NZ7wv"
      },
      "execution_count": 32,
      "outputs": []
    },
    {
      "cell_type": "code",
      "source": [
        "tracking_point = get_point_tracking(log_action)"
      ],
      "metadata": {
        "id": "oPBzYkRvapDi"
      },
      "execution_count": 35,
      "outputs": []
    },
    {
      "cell_type": "code",
      "source": [
        "idx = 82\n",
        "print_tracking_graphic(tracking_point[idx], POINT_WALL, POINT_GOAL)"
      ],
      "metadata": {
        "colab": {
          "base_uri": "https://localhost:8080/"
        },
        "id": "WDaC3G24adwe",
        "outputId": "4fb02a9a-ad34-4602-9b27-0396b1498c34"
      },
      "execution_count": 37,
      "outputs": [
        {
          "output_type": "stream",
          "name": "stdout",
          "text": [
            "6\n",
            "['  ', '  ', '  ', '  ']\n",
            "['  ', '■', '  ', '■']\n",
            "['  ', '  ', '  ', '■']\n",
            "['■', '  ', '  ', '☆']\n"
          ]
        }
      ]
    },
    {
      "cell_type": "code",
      "source": [
        "tracking_point[82]"
      ],
      "metadata": {
        "colab": {
          "base_uri": "https://localhost:8080/"
        },
        "id": "RWkkmCCkajr3",
        "outputId": "dafa8411-51f8-4436-b4a8-ed1e869f7d6f"
      },
      "execution_count": 38,
      "outputs": [
        {
          "output_type": "execute_result",
          "data": {
            "text/plain": [
              "[[0, 0], [0, 1], [0, 2], [1, 2], [2, 2], [3, 2], [3, 3]]"
            ]
          },
          "metadata": {},
          "execution_count": 38
        }
      ]
    },
    {
      "cell_type": "markdown",
      "source": [
        "### 6. print_p_value_graphic"
      ],
      "metadata": {
        "id": "rSV_Ie76b0s8"
      }
    },
    {
      "cell_type": "code",
      "source": [
        "def print_p_value_graphic(tracking, p_value, wall, goal):\n",
        "    map_ = [['  ' for _ in range(4)] for _ in range(4)]\n",
        "    for idx, trk in enumerate(tracking):\n",
        "        print(idx)\n",
        "        for p_ in wall:\n",
        "            map_[p_[0]][p_[1]] = '■'\n",
        "        for p_ in goal:\n",
        "            map_[p_[0]][p_[1]] = 'G'\n",
        "\n",
        "        p_ = ''.join([str(int(e)) for e in p_value[idx]])\n",
        "        if int(p_) != 0:\n",
        "            map_[trk[0]][trk[1]] = '1'\n",
        "        else:\n",
        "            map_[trk[0]][trk[1]] = '0'        \n",
        "        for row in range(4):\n",
        "            print(map_[row])\n",
        "        time.sleep(1)\n",
        "        if idx < len(tracking)-1:\n",
        "            clear_output(wait=False)"
      ],
      "metadata": {
        "id": "_Xc407Ywa8ww"
      },
      "execution_count": 39,
      "outputs": []
    },
    {
      "cell_type": "code",
      "source": [
        "idx = 100\n",
        "print_p_value_graphic(tracking_point[idx], log_q_value[idx], POINT_WALL, POINT_GOAL)"
      ],
      "metadata": {
        "colab": {
          "base_uri": "https://localhost:8080/"
        },
        "id": "bYaqVBM4b29w",
        "outputId": "f084e556-b429-490f-e460-c75fc28486d2"
      },
      "execution_count": 44,
      "outputs": [
        {
          "output_type": "stream",
          "name": "stdout",
          "text": [
            "6\n",
            "['1', '1', '1', '  ']\n",
            "['  ', '■', '1', '■']\n",
            "['  ', '  ', '1', '■']\n",
            "['■', '  ', '1', '0']\n"
          ]
        }
      ]
    },
    {
      "cell_type": "markdown",
      "source": [
        "### 7. print_p_value"
      ],
      "metadata": {
        "id": "vhUpEvGnc1Yi"
      }
    },
    {
      "cell_type": "code",
      "source": [
        "def print_p_value(tracking, p_value, wall, goal):\n",
        "    map_ = [['  ' for _ in range(4)] for _ in range(4)]\n",
        "    for idx, trk in enumerate(tracking):\n",
        "        for p_ in wall:\n",
        "            map_[p_[0]][p_[1]] = '■'\n",
        "        for p_ in goal:\n",
        "            map_[p_[0]][p_[1]] = 'G'\n",
        "\n",
        "        p_ = ''.join([str(int(e)) for e in p_value[idx]])\n",
        "        if int(p_) != 0:\n",
        "            map_[trk[0]][trk[1]] = '1'\n",
        "        else:\n",
        "            map_[trk[0]][trk[1]] = '0'        \n",
        "    for row in range(4):\n",
        "        print(map_[row])"
      ],
      "metadata": {
        "id": "pmMKEB-hb-Z_"
      },
      "execution_count": 45,
      "outputs": []
    },
    {
      "cell_type": "code",
      "source": [
        "idx = 100\n",
        "print_p_value(tracking_point[idx], log_q_value[idx], POINT_WALL, POINT_GOAL)"
      ],
      "metadata": {
        "colab": {
          "base_uri": "https://localhost:8080/"
        },
        "id": "CtRjS-Ktc5J4",
        "outputId": "60d8266d-d014-4e87-ce29-e47255fcaa58"
      },
      "execution_count": 46,
      "outputs": [
        {
          "output_type": "stream",
          "name": "stdout",
          "text": [
            "['1', '1', '1', '  ']\n",
            "['  ', '■', '1', '■']\n",
            "['  ', '  ', '1', '■']\n",
            "['■', '  ', '1', '0']\n"
          ]
        }
      ]
    },
    {
      "cell_type": "markdown",
      "source": [
        "# 결론\n",
        "\n",
        "현재 Q-Tablue에서 경로가 2개가 나왔지만 값이 1로 똑같아서 어떤 경로가 더 좋은지 알 수 없습니다. FrozenLake에서는 경로 2개가 다 최적경로에 해당하므로 상관이 없지만 다른 맵을 사용할 경우에는 위와 같은 문제가 발생할 수 있습니다. 그리고 일반적으로 agent가 goal에 도달하면 계속 같은 경로로 이동하는 것을 볼 수 있는데 이렇게 되면 다른 최적화 경로를 알 수 없습니다. "
      ],
      "metadata": {
        "id": "Q5gIPRsHdeHn"
      }
    }
  ]
}