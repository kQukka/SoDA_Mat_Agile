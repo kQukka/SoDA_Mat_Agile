{
  "nbformat": 4,
  "nbformat_minor": 0,
  "metadata": {
    "colab": {
      "name": "DQN2013_tensorflow_v2.ipynb의 사본",
      "provenance": [],
      "machine_shape": "hm",
      "collapsed_sections": []
    },
    "kernelspec": {
      "name": "python3",
      "display_name": "Python 3"
    },
    "language_info": {
      "name": "python"
    },
    "accelerator": "GPU"
  },
  "cells": [
    {
      "cell_type": "code",
      "execution_count": null,
      "metadata": {
        "id": "D_yCKEFMycnq"
      },
      "outputs": [],
      "source": [
        "import numpy as np\n",
        "import tensorflow as tf\n",
        "import os\n",
        "import matplotlib.pyplot as plt\n",
        "import random\n",
        "import gym\n",
        "import time\n",
        "from collections import deque\n",
        "\n",
        "os.environ['TF_CPP_MIN_LOG_LEVEL'] = '3'"
      ]
    },
    {
      "cell_type": "code",
      "source": [
        "# target 임베딩, input shape -> (1, 16)\n",
        "def one_hot(x):\n",
        "    return np.identity(16)[x:x + 1].astype(np.float32)"
      ],
      "metadata": {
        "id": "rs5hUXLHv_bl"
      },
      "execution_count": null,
      "outputs": []
    },
    {
      "cell_type": "code",
      "source": [
        "# 환경 구성\n",
        "env = gym.make('FrozenLake-v0')\n",
        "\n",
        "# Set DQN parameters\n",
        "num_episodes = 20000\n",
        "learning_rate = 0.1 \n",
        "dis = .99     # discount_reward\n",
        "h_size = 10    # 은닉층의 shape -> input(1,16) * hidden1(16,10) -> hidden2(10,4) -> output(1,4)\n",
        "\n",
        "deque_maxlen = 2000   # 버퍼의 최대 크기\n",
        "\n",
        "# buffer parameters\n",
        "random_sample = 10    # 버퍼가 다 찬 후 num_episodes에서 언제 random.sample을 할지 결정하는 파라미터 \n",
        "num_sample = 50   #sample을 뽑는 것을 얼마나 반복할 것인지 결정하는 파라미터\n",
        "num_choice = 10   # buffer에서 몇 개를 추출할 것인지 결정하는 파라미터\n",
        "\n",
        "# Input and output size based on the Env\n",
        "input_size = env.observation_space.n\n",
        "output_size = env.action_space.n\n",
        "\n",
        "# weight 1  (16, 10)\n",
        "W1 = tf.Variable(tf.random.uniform([input_size, h_size], 0, 0.01), dtype=tf.float32)\n",
        "\n",
        "# weight 2  (10, 4)\n",
        "W2 = tf.Variable(tf.random.uniform([h_size, output_size], 0, 0.01), dtype=tf.float32)\n",
        "\n",
        "# optimizer\n",
        "optimizer = tf.optimizers.SGD(learning_rate=learning_rate)"
      ],
      "metadata": {
        "id": "NJYY4uKb8MGr"
      },
      "execution_count": null,
      "outputs": []
    },
    {
      "cell_type": "code",
      "source": [
        "start_time = time.time()\n",
        "# rewards per episode\n",
        "rList = []\n",
        "buffer = deque(maxlen=deque_maxlen)\n",
        "\n",
        "for i in range(num_episodes):\n",
        "    # Reset environment and get first new observation\n",
        "    state = env.reset()\n",
        "    rAll = 0\n",
        "    done = False\n",
        "    save_weight = []\n",
        "\n",
        "    e = 1. / ((i / 50) + 10)\n",
        "    # The Q-Table learning algorithm\n",
        "    while not done:\n",
        "        # Choose an action by greedly (with a chance of random action) from the Q-network\n",
        "        # input(1,16) * W1(16,10) -> (1,10)\n",
        "        dense_layer_1 = tf.matmul(one_hot(state), W1)\n",
        "        activation_func_1 = tf.nn.relu(dense_layer_1)\n",
        "\n",
        "        # input(1,10) * W2(10,4) -> (1,4)\n",
        "        dense_layer_2 = tf.matmul(activation_func_1, W2)\n",
        "        activation_func_2 = tf.nn.relu(dense_layer_2)\n",
        "\n",
        "        q_value = np.array(activation_func_2.numpy())\n",
        "\n",
        "        save_weight.append(W2)\n",
        "\n",
        "        if np.random.rand(1) < e:\n",
        "            action = env.action_space.sample()\n",
        "        else:\n",
        "            action = np.argmax(q_value)\n",
        "\n",
        "        # Get new state and reward from environment\n",
        "        state_next, reward, done, _ = env.step(action)\n",
        "        buffer.append((state, action, reward, state_next, done))\n",
        "        state = state_next\n",
        "\n",
        "        # buffer 작동 구현\n",
        "        # --------------------------------------------------------------------------------\n",
        "        # buffer가 다 찼을 때, 이후의 random.sample 과정을 실행합니다\n",
        "        if len(buffer) > deque_maxlen:\n",
        "            pass\n",
        "        if num_episodes % random_sample == 1:\n",
        "            for _ in range(num_sample):\n",
        "                sample = random.sample(buffer, num_choice)\n",
        "\n",
        "                # sample의 개수 많큼 for문을 돌립니다\n",
        "                for state, action, reward, state_next, done in sample:\n",
        "                    if done:\n",
        "                        q_value[0, action] = reward\n",
        "                    else:\n",
        "                        # input(1,16) * W1(16,10) -> (1,10)\n",
        "                        next_dense_layer_1 = tf.matmul(one_hot(state_next), W1)\n",
        "                        activation_func_1 = tf.nn.relu(next_dense_layer_1)\n",
        "\n",
        "                        # input(1,10) * W2(10,4) -> (1,4)\n",
        "                        next_dense_layer_2 = tf.matmul(activation_func_1, W2)\n",
        "                        activation_func_2 = tf.nn.relu(next_dense_layer_2)\n",
        "\n",
        "                        q_score_next = np.array(activation_func_2.numpy())\n",
        "\n",
        "                        q_value[0, action] = reward + dis * np.max(q_score_next)\n",
        "\n",
        "         # --------------------------------------------------------------------------------\n",
        "               \n",
        "                Qpred_dense_layer_1 = tf.matmul(one_hot(state), W1)\n",
        "                Qpred_activation_1 = tf.nn.relu(Qpred_dense_layer_1)\n",
        "\n",
        "                loss = lambda: tf.reduce_sum(input_tensor=tf.square(q_value - tf.nn.relu(tf.matmul(Qpred_activation_1, W2))))\n",
        "                # optimizer, loss가 작아지는 방향으로 W 업데이트\n",
        "                optimizer.minimize(loss, var_list=W2)\n",
        "\n",
        "\n",
        "        rAll += reward\n",
        "    # if i % 100 == 0:\n",
        "    #     print(f'진행률: {round(i / num_episodes, 2) * 100}%')\n",
        "    rList.append(rAll)\n",
        "\n",
        "# 결과 출력\n",
        "print(f'{(time.time() - start_time)} seconds')\n",
        "print(\"Success rate: \" + str(sum(rList) / num_episodes))\n",
        "plt.bar(range(len(rList)), rList, color='b', alpha=0.4)\n",
        "plt.show()\n"
      ],
      "metadata": {
        "colab": {
          "base_uri": "https://localhost:8080/",
          "height": 302
        },
        "id": "oLmOdDqkyhzy",
        "outputId": "d256d30e-4783-4895-fd6e-fd7a311e7121"
      },
      "execution_count": null,
      "outputs": [
        {
          "output_type": "stream",
          "name": "stdout",
          "text": [
            "69.01760339736938 seconds\n",
            "Success rate: 0.04365\n"
          ]
        },
        {
          "output_type": "display_data",
          "data": {
            "text/plain": [
              "<Figure size 432x288 with 1 Axes>"
            ],
            "image/png": "[encoded data removed]"
          },
          "metadata": {
            "needs_background": "light"
          }
        }
      ]
    },
    {
      "cell_type": "markdown",
      "source": [
        "# 결론\n",
        "\n",
        "DQN 2013은 기존에 Q-Network가 가지고 있는 연속된 데이터간의 유사성으로 인한 학습 능력 저하 문제를 데이터를 바로 학습에 사용하지않고 buffer를 통해 랜덤으로 추출하는 방법을 사용해서 해결했습니다. \n",
        "\n",
        "하지만 DQN 2013에서는 타겟값과 예측값이 같은 가중치 (W1, W2)를 공유해서 성능이 좋지않았습니다."
      ],
      "metadata": {
        "id": "iZThPS3h-5xD"
      }
    }
  ]
}