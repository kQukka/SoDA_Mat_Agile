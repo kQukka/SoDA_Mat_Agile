{
  "nbformat": 4,
  "nbformat_minor": 0,
  "metadata": {
    "colab": {
      "name": "DQN2013_tensorflow_v2.ipynb",
      "provenance": [],
      "machine_shape": "hm"
    },
    "kernelspec": {
      "name": "python3",
      "display_name": "Python 3"
    },
    "language_info": {
      "name": "python"
    },
    "accelerator": "GPU"
  },
  "cells": [
    {
      "cell_type": "code",
      "execution_count": 1,
      "metadata": {
        "id": "D_yCKEFMycnq"
      },
      "outputs": [],
      "source": [
        "import numpy as np\n",
        "import tensorflow as tf\n",
        "import os\n",
        "import matplotlib.pyplot as plt\n",
        "import random\n",
        "import gym\n",
        "import time\n",
        "from collections import deque\n",
        "\n",
        "os.environ['TF_CPP_MIN_LOG_LEVEL'] = '3'"
      ]
    },
    {
      "cell_type": "code",
      "source": [
        "# target 임베딩\n",
        "def one_hot(x):\n",
        "    return np.identity(16)[x:x + 1].astype(np.float32)\n",
        "\n",
        "\n",
        "env = gym.make('FrozenLake-v0')\n",
        "\n",
        "# Set Q-learning parameters\n",
        "num_episodes = 20000\n",
        "learning_rate = 0.1\n",
        "dis = .99\n",
        "h_size = 10\n",
        "\n",
        "# Input and output size based on the Env\n",
        "input_size = env.observation_space.n\n",
        "output_size = env.action_space.n\n",
        "\n",
        "# weight 1  (16, 10)\n",
        "W1 = tf.Variable(tf.random.uniform([input_size, h_size], 0, 0.01), dtype=tf.float32)\n",
        "\n",
        "# weight 2  (10, 4)\n",
        "W2 = tf.Variable(tf.random.uniform([h_size, output_size], 0, 0.01), dtype=tf.float32)\n",
        "\n",
        "# optimizer\n",
        "optimizer = tf.optimizers.SGD(learning_rate=learning_rate)\n",
        "start_time = time.time()\n",
        "# rewards per episode\n",
        "rList = []\n",
        "buffer = deque(maxlen=2000)\n",
        "\n",
        "for i in range(num_episodes):\n",
        "    # Reset environment and get first new observation\n",
        "    state = env.reset()\n",
        "    rAll = 0\n",
        "    done = False\n",
        "    save_weight = []\n",
        "\n",
        "    e = 1. / ((i / 50) + 10)\n",
        "    # The Q-Table learning algorithm\n",
        "    while not done:\n",
        "        # Choose an action by greedly (with a chance of random action) from the Q-network\n",
        "        q_value = tf.matmul(one_hot(state), W1)\n",
        "        activation = tf.nn.relu(q_value)\n",
        "        q_value = tf.matmul(activation, W2)\n",
        "        q_value = tf.nn.relu(q_value)\n",
        "        q_value = np.array(q_value.numpy())\n",
        "\n",
        "        save_weight.append(W2)\n",
        "\n",
        "        if np.random.rand(1) < e:\n",
        "            action = env.action_space.sample()\n",
        "        else:\n",
        "            action = np.argmax(q_value)\n",
        "\n",
        "        # Get new state and reward from environment\n",
        "        state_next, reward, done, _ = env.step(action)\n",
        "        buffer.append((state, action, reward, state_next, done))\n",
        "        state = state_next\n",
        "\n",
        "        if len(buffer) > 2000:\n",
        "            pass\n",
        "        if num_episodes % 10 == 1:\n",
        "            for _ in range(50):\n",
        "                sample = random.sample(buffer, 10)\n",
        "\n",
        "                # sample의 개수 많큼 for문을 돌립니다\n",
        "                for state, action, reward, state_next, done in sample:\n",
        "                    if done:\n",
        "                        q_value[0, action] = reward\n",
        "                    else:\n",
        "                        q_score_next = tf.matmul(one_hot(state_next), W1)\n",
        "                        activation = tf.nn.relu(q_score_next)\n",
        "                        q_score_next = tf.matmul(activation, W2)\n",
        "                        q_score_next = tf.nn.relu(q_score_next)\n",
        "                        q_score_next = np.array(q_score_next.numpy())\n",
        "\n",
        "                        q_value[0, action] = reward + dis * np.max(q_score_next)\n",
        "\n",
        "                # --------------------------------------------------------------------\n",
        "               \n",
        "                Qpred = tf.matmul(one_hot(state), W1)\n",
        "                activation = tf.nn.relu(Qpred)\n",
        "                loss = lambda: tf.reduce_sum(input_tensor=tf.square(q_value - tf.nn.relu(tf.matmul(Qpred, W2))))\n",
        "                # optimizer, loss가 작아지는 방향으로 W 업데이트\n",
        "                optimizer.minimize(loss, var_list=W2)\n",
        "\n",
        "\n",
        "        rAll += reward\n",
        "    # if i % 100 == 0:\n",
        "    #     print(f'진행률: {round(i / num_episodes, 2) * 100}%')\n",
        "    rList.append(rAll)\n",
        "\n",
        "print(f'{(time.time() - start_time)} seconds')\n",
        "print(\"Success rate: \" + str(sum(rList) / num_episodes))\n",
        "plt.bar(range(len(rList)), rList, color='b', alpha=0.4)\n",
        "plt.show()\n"
      ],
      "metadata": {
        "colab": {
          "base_uri": "https://localhost:8080/",
          "height": 302
        },
        "id": "oLmOdDqkyhzy",
        "outputId": "2fe8fba8-2bdb-4205-d414-c8b093fb2265"
      },
      "execution_count": 2,
      "outputs": [
        {
          "output_type": "stream",
          "name": "stdout",
          "text": [
            "70.5483090877533 seconds\n",
            "Success rate: 0.0321\n"
          ]
        },
        {
          "output_type": "display_data",
          "data": {
            "text/plain": [
              "<Figure size 432x288 with 1 Axes>"
            ],
            "image/png": "[encoded data removed]"
          },
          "metadata": {
            "needs_background": "light"
          }
        }
      ]
    }
  ]
}