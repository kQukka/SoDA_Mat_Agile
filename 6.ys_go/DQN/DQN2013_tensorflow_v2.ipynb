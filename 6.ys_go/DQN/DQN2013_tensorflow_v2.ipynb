{
  "nbformat": 4,
  "nbformat_minor": 0,
  "metadata": {
    "colab": {
      "name": "DQN2013_tensorflow_v2_backup.ipynb의 사본",
      "provenance": [],
      "machine_shape": "hm",
      "collapsed_sections": []
    },
    "kernelspec": {
      "name": "python3",
      "display_name": "Python 3"
    },
    "language_info": {
      "name": "python"
    },
    "accelerator": "GPU"
  },
  "cells": [
    {
      "cell_type": "code",
      "execution_count": 1,
      "metadata": {
        "id": "D_yCKEFMycnq"
      },
      "outputs": [],
      "source": [
        "import numpy as np\n",
        "import tensorflow as tf\n",
        "import os\n",
        "import matplotlib.pyplot as plt\n",
        "import random\n",
        "import gym\n",
        "import time\n",
        "from collections import deque\n",
        "\n",
        "os.environ['TF_CPP_MIN_LOG_LEVEL'] = '3'"
      ]
    },
    {
      "cell_type": "code",
      "source": [
        "# target 임베딩, input shape -> (1, 16)\n",
        "def one_hot(x):\n",
        "    return np.identity(16)[x:x + 1].astype(np.float32)"
      ],
      "metadata": {
        "id": "rs5hUXLHv_bl"
      },
      "execution_count": 2,
      "outputs": []
    },
    {
      "cell_type": "code",
      "source": [
        "# 환경 구성\n",
        "env = gym.make('FrozenLake-v0')\n",
        "\n",
        "# Set DQN parameters\n",
        "num_episodes = 20000\n",
        "learning_rate = 0.1 \n",
        "dis = .99     # discount_reward\n",
        "h_size = 10    # 은닉층의 shape -> input(1,16) * hidden1(16,10) -> hidden2(10,4) -> output(1,4)\n",
        "\n",
        "deque_maxlen = 2000   # 버퍼의 최대 크기\n",
        "\n",
        "# buffer parameters\n",
        "random_sample = 10    # 버퍼가 다 찬 후 num_episodes에서 언제 random.sample을 할지 결정하는 파라미터 \n",
        "num_sample = 50   #sample을 뽑는 것을 얼마나 반복할 것인지 결정하는 파라미터\n",
        "num_choice = 10   # buffer에서 몇 개를 추출할 것인지 결정하는 파라미터\n",
        "\n",
        "# Input and output size based on the Env\n",
        "input_size = env.observation_space.n\n",
        "output_size = env.action_space.n\n",
        "\n",
        "# weight 1, Variable 변수, optimizer.minimize를 통해 (target - predict)** 의 값이 최소화가 되도록 W1의 값을 초기화 합니다. \n",
        "# W1 = 첫번째 형변환을 할 때 사용하는 가중치\n",
        "W1 = tf.Variable(tf.random.uniform([input_size, h_size], 0, 0.01), dtype=tf.float32) \n",
        "\n",
        "# weight 2, Variable 변수, optimizer.minimize를 통해 (target - predict)** 의 값이 최소화가 되도록 W2의 값을 초기화 합니다.\n",
        "# W2 = 두번째 형변환을 할 때 사용하는 가중치\n",
        "W2 = tf.Variable(tf.random.uniform([h_size, output_size], 0, 0.01), dtype=tf.float32)\n",
        "\n",
        "# optimizer = 경사하강법을 사용하여 가중치 W1, W2를 초기화 \n",
        "optimizer = tf.optimizers.SGD(learning_rate=learning_rate)"
      ],
      "metadata": {
        "id": "NJYY4uKb8MGr"
      },
      "execution_count": 3,
      "outputs": []
    },
    {
      "cell_type": "code",
      "source": [
        "start_time = time.time()\n",
        "# rewards per episode\n",
        "rList = []\n",
        "buffer = deque(maxlen=deque_maxlen)\n",
        "save_weight = []\n",
        "\n",
        "for i in range(num_episodes):\n",
        "    # Reset environment and get first new observation\n",
        "    state = env.reset()\n",
        "    rAll = 0\n",
        "    done = False\n",
        "    \n",
        "    e = 1. / ((i / 50) + 10)\n",
        "    # The Q-Table learning algorithm\n",
        "    while not done:\n",
        "        # Choose an action by greedly (with a chance of random action) from the Q-network\n",
        "        # input(1,16) * W1(16,10) -> (1,10), 행렬곱을 통한 형변환을 진행하는 부분\n",
        "        dense_layer_1 = tf.matmul(one_hot(state), W1)\n",
        "        activation_func = tf.nn.relu(dense_layer_1)\n",
        "\n",
        "        # input(1,10) * W2(10,4) -> (1,4), 행렬곱을 통한 형변환을 진행하는 부분\n",
        "        dense_layer_2 = tf.matmul(activation_func, W2)\n",
        "        activation_func = tf.nn.relu(dense_layer_2)\n",
        "\n",
        "        q_value = np.array(activation_func.numpy())\n",
        "\n",
        "        save_weight.append(W2)\n",
        "\n",
        "        if np.random.rand(1) < e:\n",
        "            action = env.action_space.sample()\n",
        "        else:\n",
        "            action = np.argmax(q_value)\n",
        "\n",
        "        # Get new state and reward from environment\n",
        "        state_next, reward, done, _ = env.step(action)\n",
        "        buffer.append((state, action, reward, state_next, done))\n",
        "        state = state_next\n",
        "\n",
        "        # buffer 작동 구현\n",
        "        # --------------------------------------------------------------------------------\n",
        "        # buffer가 다 찼을 때, 이후의 random.sample 과정을 실행합니다\n",
        "        if len(buffer) > deque_maxlen:\n",
        "            pass\n",
        "        if num_episodes % random_sample == 1:\n",
        "            for _ in range(num_sample):\n",
        "                sample = random.sample(buffer, num_choice)\n",
        "\n",
        "                # sample의 개수 많큼 for문을 돌립니다\n",
        "                for state, action, reward, state_next, done in sample:\n",
        "                    # next_state값을 넣어서 q_value의 근사치를 뽑습니다\n",
        "                    if done:\n",
        "                        q_value[0, action] = reward\n",
        "                    else:\n",
        "                        # input(1,16) * W1(16,10) -> (1,10), state_next에 대한  행렬곱을 통한 형변환을 진행하는 부분\n",
        "                        dense_layer_1 = tf.matmul(one_hot(state_next), W1)\n",
        "                        activation_func = tf.nn.relu(dense_layer_1)\n",
        "\n",
        "                        # input(1,10) * W2(10,4) -> (1,4), , 행렬곱을 통한 형변환을 진행하는 부분\n",
        "                        dense_layer_2 = tf.matmul(activation_func, W2)\n",
        "                        activation_func = tf.nn.relu(dense_layer_2)\n",
        "                        \n",
        "                        q_score_next = np.array(activation_func.numpy())\n",
        "                        # 학습에 사용되는 값\n",
        "                        q_value[0, action] = reward + dis * np.max(q_score_next)\n",
        "\n",
        "         # --------------------------------------------------------------------------------\n",
        "                # 예측값 Qpred를 같은 네트워크를 사용하여 계산합니다. 현재 state값을 넣어서 q_value의 근사치를 뽑습니다.\n",
        "                dense_layer_1 = tf.matmul(one_hot(state), W1)\n",
        "                activation_func = tf.nn.relu(dense_layer_1)\n",
        "\n",
        "                loss = lambda: tf.reduce_sum(input_tensor=tf.square(q_value - tf.nn.relu(tf.matmul(activation_func, W2))))\n",
        "                # optimizer, loss가 작아지는 방향으로 W1, W2 업데이트\n",
        "                # W1, W2를 둘다 업데이트를 시켜야합니다. \n",
        "                #  input, w 가 고정된 값일 경우 -> 값의 변화가 일어나지 않습니다. 그래서 두개의 가중치값을 같이 바꿔줍니다.\n",
        "                optimizer.minimize(loss, var_list=[W1, W2])\n",
        "\n",
        "        rAll += reward\n",
        "    # if i % 100 == 0:\n",
        "    #     print(f'진행률: {round(i / num_episodes, 2) * 100}%')\n",
        "    rList.append(rAll)\n",
        "\n",
        "# 결과 출력\n",
        "print(f'{(time.time() - start_time)} seconds')\n",
        "print(\"Success rate: \" + str(sum(rList) / num_episodes))\n",
        "plt.bar(range(len(rList)), rList, color='b', alpha=0.4)\n",
        "plt.show()\n"
      ],
      "metadata": {
        "colab": {
          "base_uri": "https://localhost:8080/",
          "height": 302
        },
        "id": "oLmOdDqkyhzy",
        "outputId": "5f0e0402-3e9c-43d0-f019-bdbe8ac00719"
      },
      "execution_count": 4,
      "outputs": [
        {
          "output_type": "stream",
          "name": "stdout",
          "text": [
            "132.28242135047913 seconds\n",
            "Success rate: 0.02415\n"
          ]
        },
        {
          "output_type": "display_data",
          "data": {
            "text/plain": [
              "<Figure size 432x288 with 1 Axes>"
            ],
            "image/png": "[encoded data removed]"
          },
          "metadata": {
            "needs_background": "light"
          }
        }
      ]
    },
    {
      "cell_type": "markdown",
      "source": [
        "# 결론\n",
        "\n",
        "DQN 2013은 기존에 Q-Network가 가지고 있는 연속된 데이터간의 유사성으로 인한 학습 능력 저하 문제를 데이터를 바로 학습에 사용하지않고 buffer를 통해 랜덤으로 추출하는 방법을 사용해서 해결했습니다. \n",
        "\n",
        "하지만 DQN 2013에서는 타겟값과 예측값이 같은 가중치 (W1, W2)를 공유해서 성능이 좋지않았습니다."
      ],
      "metadata": {
        "id": "iZThPS3h-5xD"
      }
    }
  ]
}