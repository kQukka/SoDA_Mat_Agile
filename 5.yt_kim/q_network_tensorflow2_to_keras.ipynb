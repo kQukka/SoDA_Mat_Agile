{
  "nbformat": 4,
  "nbformat_minor": 0,
  "metadata": {
    "colab": {
      "name": "q_network_tensorflow2_to_keras.ipynb",
      "provenance": [],
      "collapsed_sections": []
    },
    "kernelspec": {
      "name": "python3",
      "display_name": "Python 3"
    },
    "language_info": {
      "name": "python"
    }
  },
  "cells": [
    {
      "cell_type": "code",
      "execution_count": 1,
      "metadata": {
        "id": "lI3lDV7Zj2mH"
      },
      "outputs": [],
      "source": [
        "import os\n",
        "import time\n",
        "import gym\n",
        "import numpy as np\n",
        "\n",
        "from keras import optimizers\n",
        "from keras import backend as K\n",
        "from tensorflow import keras\n",
        "\n",
        "import tensorflow as tf\n",
        "from tensorflow.keras import layers\n",
        "\n",
        "import matplotlib.pyplot as plt\n",
        "os.environ['TF_CPP_MIN_LOG_LEVEL'] = '3'"
      ]
    },
    {
      "cell_type": "code",
      "source": [
        "#16*16의 단위행렬 생성.\n",
        "# [x:x+1]로 한 경우 결과적으로 범위는 x\n",
        "def one_hot(x):\n",
        "    return np.identity(16)[x:x+1].astype(np.float32)"
      ],
      "metadata": {
        "id": "j3Lauf3RkmV1"
      },
      "execution_count": 2,
      "outputs": []
    },
    {
      "cell_type": "code",
      "source": [
        "env = gym.make('FrozenLake-v0')\n",
        "\n",
        "# Set Q-learning parameters\n",
        "num_episodes = 2000\n",
        "learning_rate = 0.1\n",
        "dis = .99\n",
        "\n",
        "# Input and output size based on the Env\n",
        "input_size = env.observation_space.n\n",
        "output_size = env.action_space.n\n",
        "\n",
        "# weight 기존코드\n",
        "# W = tf.Variable(tf.random.uniform([input_size, output_size], 0, 0.01), dtype=tf.float32)\n",
        "\n",
        "# from keras import backend as K로 정의. 기존 코드와 비교했을 때 상당히 유사함\n",
        "W = K.variable(K.random_uniform_variable(shape = (input_size, output_size), low = 0, high = 0.1), dtype= \"float32\")\n",
        "\n",
        "# 기존코드 - 케라스코드에서 차이가 거의 없음\n",
        "# optimizer = tf.optimizers.SGD(learning_rate=learning_rate)\n",
        "optimizer = keras.optimizers.SGD(lr=learning_rate)"
      ],
      "metadata": {
        "colab": {
          "base_uri": "https://localhost:8080/"
        },
        "id": "UuM3M_oWk_8C",
        "outputId": "96f0170b-7a0d-4cc2-c57a-0e363d63c8fb"
      },
      "execution_count": 7,
      "outputs": [
        {
          "output_type": "stream",
          "name": "stderr",
          "text": [
            "/usr/local/lib/python3.7/dist-packages/keras/optimizer_v2/gradient_descent.py:102: UserWarning: The `lr` argument is deprecated, use `learning_rate` instead.\n",
            "  super(SGD, self).__init__(name, **kwargs)\n"
          ]
        }
      ]
    },
    {
      "cell_type": "code",
      "source": [
        "start_time = time.time()\n",
        "# rewards per episode\n",
        "rList = []\n",
        "for i in range(num_episodes):\n",
        "    # Reset environment and get first new observation\n",
        "    state = env.reset()\n",
        "    rAll = 0\n",
        "    done = False\n",
        "    local_loss = []\n",
        "\n",
        "    e = 1. / ((i / 50) + 10)\n",
        "    # The Q-Table learning algorithm\n",
        "    while not done:\n",
        "        # Choose an action by greedly (with a chance of random action)\n",
        "        # from the Q-network\n",
        "        # q_value = np.matmul(one_hot(state), W)\n",
        "        # 위에 적어둔 코드는 작동하지 않음. 찾아보니 tf.matmul은 3차원 이상의 텐서도 계산가능하다고함\n",
        "        # 넘파이 matmul은 텐서플로우 matmul과 달리 작동하지 않는 것으로 추정\n",
        "        # 이에 대한 해답을 주는 자료는 찾을 수 없음\n",
        "        q_value = tf.matmul(one_hot(state), W)\n",
        "        q_value = np.array(q_value.numpy())\n",
        "\n",
        "        # e greedy\n",
        "        if np.random.rand(1) < e:\n",
        "            action = env.action_space.sample()\n",
        "        else:\n",
        "            action = np.argmax(q_value)\n",
        "\n",
        "        # Get new state and reward from environment\n",
        "        state_next, reward, done, _ = env.step(action)\n",
        "        if done:\n",
        "            # Update Q, and no q_value+1, since it's action termial state\n",
        "            q_value[0, action] = reward\n",
        "        else:\n",
        "            # Obtain the Q_s` values by feeding the new state through our network\n",
        "            q_score_next = np.matmul(one_hot(state_next), W)\n",
        "            # Update Q\n",
        "            q_value[0, action] = reward + dis * np.max(q_score_next)\n",
        "\n",
        "        # K.sum(input_value)\n",
        "        # loss = lambda: K.sum(K.square(q_value - np.matmul(one_hot(state), W)))\n",
        "        # 위의 loss를 구하는 것은 당장은 작동이 되나 밑의 optimizer.minimize 부분에서 막힘\n",
        "        # reduce_sum과 sum의 기능이 거의 유사함에도 작동이 되지 않은 것으로 볼 때\n",
        "        # reduce_sum과 sum에는 분명한 차이가 있는 것으로 보임.\n",
        "        # tf.matmul과 np.matmul 을 돌렸을 때 실행은 가능하지만\n",
        "        # 해당 셀 16번째 줄부터 tf.matmul에 대한 이유로 tf.matmul을 사용하는 것이 바람직한 것 같음\n",
        "        loss = lambda: tf.reduce_sum(input_tensor=tf.square(q_value - tf.matmul(one_hot(state), W)))\n",
        "\n",
        "        # optimizer, loss will be updated to lower\n",
        "        # 처음 이 부분에서 오류가 났을 때 두 개의 인자를 하나씩 빼 보았지만 실행되지 않았음\n",
        "        optimizer.minimize(loss, var_list = W)\n",
        "\n",
        "        rAll += reward\n",
        "        state = state_next\n",
        "    rList.append(rAll)"
      ],
      "metadata": {
        "id": "stdXawdu47HF"
      },
      "execution_count": 9,
      "outputs": []
    },
    {
      "cell_type": "code",
      "source": [
        "print(f'{(time.time() - start_time)} seconds')\n",
        "print(\"Success rate: \" + str(sum(rList) / num_episodes))\n",
        "plt.bar(range(len(rList)), rList, color='b', alpha=0.4)\n",
        "plt.show()"
      ],
      "metadata": {
        "colab": {
          "base_uri": "https://localhost:8080/",
          "height": 302
        },
        "id": "ez2-Ibhg-4Yd",
        "outputId": "94bf889b-5da2-43df-8733-7ba7d74f07e4"
      },
      "execution_count": 10,
      "outputs": [
        {
          "output_type": "stream",
          "name": "stdout",
          "text": [
            "305.7996985912323 seconds\n",
            "Success rate: 0.456\n"
          ]
        },
        {
          "output_type": "display_data",
          "data": {
            "text/plain": [
              "<Figure size 432x288 with 1 Axes>"
            ],
            "image/png": "[encoded data removed]"
          },
          "metadata": {
            "needs_background": "light"
          }
        }
      ]
    },
    {
      "cell_type": "code",
      "source": [
        ""
      ],
      "metadata": {
        "id": "XrZyWCgcEj5C"
      },
      "execution_count": null,
      "outputs": []
    }
  ]
}